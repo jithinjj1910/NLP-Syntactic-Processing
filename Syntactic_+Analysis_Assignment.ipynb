{
 "cells": [
  {
   "cell_type": "markdown",
   "metadata": {},
   "source": [
    "## Assignment - Syntactic Analysis"
   ]
  },
  {
   "cell_type": "markdown",
   "metadata": {},
   "source": [
    "### Problem Statement"
   ]
  },
  {
   "cell_type": "markdown",
   "metadata": {},
   "source": [
    "**Data**\n",
    "1. For this assignment, we will use the Treebank dataset of NLTK with the 'universal' tagset. The Universal tagset of NLTK comprises only 12 coarse tag classes as follows: Verb, Noun, Pronouns, Adjectives, Adverbs, Adpositions, Conjunctions, Determiners, Cardinal Numbers, Particles, Other/ Foreign words, Punctuations.\n",
    "\n",
    "2. Using only 12 coarse classes (compared to the 46 fine classes such as NNP, VBD etc.) will make the Viterbi algorithm faster as well."
   ]
  },
  {
   "cell_type": "markdown",
   "metadata": {},
   "source": [
    "**Goal**\n",
    "1. We will split the Treebank dataset into train and validation sets. A sample size of 95:5 for training: validation sets, i.e. keep the validation size small, else the algorithm will need a very high amount of runtime.\n",
    "\n",
    " \n",
    "2. Following will be accomplished in this assignment:\n",
    "\n",
    "1. Write the vanilla Viterbi algorithm for assigning POS tags (i.e. without dealing with unknown words) \n",
    "2. Solve the problem of unknown words using at least two techniques. These techniques can use any of the approaches discussed in the class - lexicon, rule-based, probabilistic etc. Note that to implement these techniques, you can either write separate functions and call them from the main Viterbi algorithm, or modify the Viterbi algorithm, or both.\n",
    "3. Compare the tagging accuracy after making these modifications with the vanilla Viterbi algorithm.\n",
    "4. List down at least three cases from the sample test file (i.e. unknown word-tag pairs) which were incorrectly tagged by the original Viterbi POS tagger and got corrected after your modifications."
   ]
  },
  {
   "cell_type": "markdown",
   "metadata": {},
   "source": [
    "### POS Tagging, HMM & Viterbi"
   ]
  },
  {
   "cell_type": "markdown",
   "metadata": {},
   "source": [
    "### 1. Exploring the Tree Bank Universal Tagset Corpus"
   ]
  },
  {
   "cell_type": "code",
   "execution_count": 1,
   "metadata": {},
   "outputs": [],
   "source": [
    "#importing the required libraries\n",
    "import nltk, re, pprint\n",
    "import numpy as np\n",
    "import pandas as pd\n",
    "import requests\n",
    "import matplotlib.pyplot as plt\n",
    "import seaborn as sns\n",
    "import pprint, time\n",
    "import random\n",
    "from sklearn.model_selection import train_test_split\n",
    "from nltk.tokenize import word_tokenize\n",
    "from nltk.tokenize import sent_tokenize"
   ]
  },
  {
   "cell_type": "code",
   "execution_count": 2,
   "metadata": {},
   "outputs": [],
   "source": [
    "#reading the tree bank tagged sentences\n",
    "nltk_data = list(nltk.corpus.treebank.tagged_sents(tagset=\"universal\"))"
   ]
  },
  {
   "cell_type": "code",
   "execution_count": 3,
   "metadata": {},
   "outputs": [
    {
     "name": "stdout",
     "output_type": "stream",
     "text": [
      "[[('Pierre', 'NOUN'), ('Vinken', 'NOUN'), (',', '.'), ('61', 'NUM'), ('years', 'NOUN'), ('old', 'ADJ'), (',', '.'), ('will', 'VERB'), ('join', 'VERB'), ('the', 'DET'), ('board', 'NOUN'), ('as', 'ADP'), ('a', 'DET'), ('nonexecutive', 'ADJ'), ('director', 'NOUN'), ('Nov.', 'NOUN'), ('29', 'NUM'), ('.', '.')], [('Mr.', 'NOUN'), ('Vinken', 'NOUN'), ('is', 'VERB'), ('chairman', 'NOUN'), ('of', 'ADP'), ('Elsevier', 'NOUN'), ('N.V.', 'NOUN'), (',', '.'), ('the', 'DET'), ('Dutch', 'NOUN'), ('publishing', 'VERB'), ('group', 'NOUN'), ('.', '.')], [('Rudolph', 'NOUN'), ('Agnew', 'NOUN'), (',', '.'), ('55', 'NUM'), ('years', 'NOUN'), ('old', 'ADJ'), ('and', 'CONJ'), ('former', 'ADJ'), ('chairman', 'NOUN'), ('of', 'ADP'), ('Consolidated', 'NOUN'), ('Gold', 'NOUN'), ('Fields', 'NOUN'), ('PLC', 'NOUN'), (',', '.'), ('was', 'VERB'), ('named', 'VERB'), ('*-1', 'X'), ('a', 'DET'), ('nonexecutive', 'ADJ'), ('director', 'NOUN'), ('of', 'ADP'), ('this', 'DET'), ('British', 'ADJ'), ('industrial', 'ADJ'), ('conglomerate', 'NOUN'), ('.', '.')], [('A', 'DET'), ('form', 'NOUN'), ('of', 'ADP'), ('asbestos', 'NOUN'), ('once', 'ADV'), ('used', 'VERB'), ('*', 'X'), ('*', 'X'), ('to', 'PRT'), ('make', 'VERB'), ('Kent', 'NOUN'), ('cigarette', 'NOUN'), ('filters', 'NOUN'), ('has', 'VERB'), ('caused', 'VERB'), ('a', 'DET'), ('high', 'ADJ'), ('percentage', 'NOUN'), ('of', 'ADP'), ('cancer', 'NOUN'), ('deaths', 'NOUN'), ('among', 'ADP'), ('a', 'DET'), ('group', 'NOUN'), ('of', 'ADP'), ('workers', 'NOUN'), ('exposed', 'VERB'), ('*', 'X'), ('to', 'PRT'), ('it', 'PRON'), ('more', 'ADV'), ('than', 'ADP'), ('30', 'NUM'), ('years', 'NOUN'), ('ago', 'ADP'), (',', '.'), ('researchers', 'NOUN'), ('reported', 'VERB'), ('0', 'X'), ('*T*-1', 'X'), ('.', '.')], [('The', 'DET'), ('asbestos', 'NOUN'), ('fiber', 'NOUN'), (',', '.'), ('crocidolite', 'NOUN'), (',', '.'), ('is', 'VERB'), ('unusually', 'ADV'), ('resilient', 'ADJ'), ('once', 'ADP'), ('it', 'PRON'), ('enters', 'VERB'), ('the', 'DET'), ('lungs', 'NOUN'), (',', '.'), ('with', 'ADP'), ('even', 'ADV'), ('brief', 'ADJ'), ('exposures', 'NOUN'), ('to', 'PRT'), ('it', 'PRON'), ('causing', 'VERB'), ('symptoms', 'NOUN'), ('that', 'DET'), ('*T*-1', 'X'), ('show', 'VERB'), ('up', 'PRT'), ('decades', 'NOUN'), ('later', 'ADJ'), (',', '.'), ('researchers', 'NOUN'), ('said', 'VERB'), ('0', 'X'), ('*T*-2', 'X'), ('.', '.')], [('Lorillard', 'NOUN'), ('Inc.', 'NOUN'), (',', '.'), ('the', 'DET'), ('unit', 'NOUN'), ('of', 'ADP'), ('New', 'ADJ'), ('York-based', 'ADJ'), ('Loews', 'NOUN'), ('Corp.', 'NOUN'), ('that', 'DET'), ('*T*-2', 'X'), ('makes', 'VERB'), ('Kent', 'NOUN'), ('cigarettes', 'NOUN'), (',', '.'), ('stopped', 'VERB'), ('using', 'VERB'), ('crocidolite', 'NOUN'), ('in', 'ADP'), ('its', 'PRON'), ('Micronite', 'NOUN'), ('cigarette', 'NOUN'), ('filters', 'NOUN'), ('in', 'ADP'), ('1956', 'NUM'), ('.', '.')], [('Although', 'ADP'), ('preliminary', 'ADJ'), ('findings', 'NOUN'), ('were', 'VERB'), ('reported', 'VERB'), ('*-2', 'X'), ('more', 'ADV'), ('than', 'ADP'), ('a', 'DET'), ('year', 'NOUN'), ('ago', 'ADP'), (',', '.'), ('the', 'DET'), ('latest', 'ADJ'), ('results', 'NOUN'), ('appear', 'VERB'), ('in', 'ADP'), ('today', 'NOUN'), (\"'s\", 'PRT'), ('New', 'NOUN'), ('England', 'NOUN'), ('Journal', 'NOUN'), ('of', 'ADP'), ('Medicine', 'NOUN'), (',', '.'), ('a', 'DET'), ('forum', 'NOUN'), ('likely', 'ADJ'), ('*', 'X'), ('to', 'PRT'), ('bring', 'VERB'), ('new', 'ADJ'), ('attention', 'NOUN'), ('to', 'PRT'), ('the', 'DET'), ('problem', 'NOUN'), ('.', '.')], [('A', 'DET'), ('Lorillard', 'NOUN'), ('spokewoman', 'NOUN'), ('said', 'VERB'), (',', '.'), ('``', '.'), ('This', 'DET'), ('is', 'VERB'), ('an', 'DET'), ('old', 'ADJ'), ('story', 'NOUN'), ('.', '.')], [('We', 'PRON'), (\"'re\", 'VERB'), ('talking', 'VERB'), ('about', 'ADP'), ('years', 'NOUN'), ('ago', 'ADP'), ('before', 'ADP'), ('anyone', 'NOUN'), ('heard', 'VERB'), ('of', 'ADP'), ('asbestos', 'NOUN'), ('having', 'VERB'), ('any', 'DET'), ('questionable', 'ADJ'), ('properties', 'NOUN'), ('.', '.')], [('There', 'DET'), ('is', 'VERB'), ('no', 'DET'), ('asbestos', 'NOUN'), ('in', 'ADP'), ('our', 'PRON'), ('products', 'NOUN'), ('now', 'ADV'), ('.', '.'), (\"''\", '.')], [('Neither', 'DET'), ('Lorillard', 'NOUN'), ('nor', 'CONJ'), ('the', 'DET'), ('researchers', 'NOUN'), ('who', 'PRON'), ('*T*-3', 'X'), ('studied', 'VERB'), ('the', 'DET'), ('workers', 'NOUN'), ('were', 'VERB'), ('aware', 'ADJ'), ('of', 'ADP'), ('any', 'DET'), ('research', 'NOUN'), ('on', 'ADP'), ('smokers', 'NOUN'), ('of', 'ADP'), ('the', 'DET'), ('Kent', 'NOUN'), ('cigarettes', 'NOUN'), ('.', '.')], [('``', '.'), ('We', 'PRON'), ('have', 'VERB'), ('no', 'DET'), ('useful', 'ADJ'), ('information', 'NOUN'), ('on', 'ADP'), ('whether', 'ADP'), ('users', 'NOUN'), ('are', 'VERB'), ('at', 'ADP'), ('risk', 'NOUN'), (',', '.'), (\"''\", '.'), ('said', 'VERB'), ('*T*-1', 'X'), ('James', 'NOUN'), ('A.', 'NOUN'), ('Talcott', 'NOUN'), ('of', 'ADP'), ('Boston', 'NOUN'), (\"'s\", 'PRT'), ('Dana-Farber', 'NOUN'), ('Cancer', 'NOUN'), ('Institute', 'NOUN'), ('.', '.')], [('Dr.', 'NOUN'), ('Talcott', 'NOUN'), ('led', 'VERB'), ('a', 'DET'), ('team', 'NOUN'), ('of', 'ADP'), ('researchers', 'NOUN'), ('from', 'ADP'), ('the', 'DET'), ('National', 'NOUN'), ('Cancer', 'NOUN'), ('Institute', 'NOUN'), ('and', 'CONJ'), ('the', 'DET'), ('medical', 'ADJ'), ('schools', 'NOUN'), ('of', 'ADP'), ('Harvard', 'NOUN'), ('University', 'NOUN'), ('and', 'CONJ'), ('Boston', 'NOUN'), ('University', 'NOUN'), ('.', '.')], [('The', 'DET'), ('Lorillard', 'NOUN'), ('spokeswoman', 'NOUN'), ('said', 'VERB'), ('0', 'X'), ('asbestos', 'NOUN'), ('was', 'VERB'), ('used', 'VERB'), ('*-1', 'X'), ('in', 'ADP'), ('``', '.'), ('very', 'ADV'), ('modest', 'ADJ'), ('amounts', 'NOUN'), (\"''\", '.'), ('in', 'ADP'), ('*', 'X'), ('making', 'VERB'), ('paper', 'NOUN'), ('for', 'ADP'), ('the', 'DET'), ('filters', 'NOUN'), ('in', 'ADP'), ('the', 'DET'), ('early', 'ADJ'), ('1950s', 'NUM'), ('and', 'CONJ'), ('replaced', 'VERB'), ('*-1', 'X'), ('with', 'ADP'), ('a', 'DET'), ('different', 'ADJ'), ('type', 'NOUN'), ('of', 'ADP'), ('filter', 'NOUN'), ('in', 'ADP'), ('1956', 'NUM'), ('.', '.')], [('From', 'ADP'), ('1953', 'NUM'), ('to', 'PRT'), ('1955', 'NUM'), (',', '.'), ('9.8', 'NUM'), ('billion', 'NUM'), ('Kent', 'NOUN'), ('cigarettes', 'NOUN'), ('with', 'ADP'), ('the', 'DET'), ('filters', 'NOUN'), ('were', 'VERB'), ('sold', 'VERB'), ('*-3', 'X'), (',', '.'), ('the', 'DET'), ('company', 'NOUN'), ('said', 'VERB'), ('0', 'X'), ('*T*-1', 'X'), ('.', '.')], [('Among', 'ADP'), ('33', 'NUM'), ('men', 'NOUN'), ('who', 'PRON'), ('*T*-4', 'X'), ('worked', 'VERB'), ('closely', 'ADV'), ('with', 'ADP'), ('the', 'DET'), ('substance', 'NOUN'), (',', '.'), ('28', 'NUM'), ('*ICH*-1', 'X'), ('have', 'VERB'), ('died', 'VERB'), ('--', '.'), ('more', 'ADJ'), ('than', 'ADP'), ('three', 'NUM'), ('times', 'NOUN'), ('the', 'DET'), ('expected', 'VERB'), ('number', 'NOUN'), ('.', '.')], [('Four', 'NUM'), ('of', 'ADP'), ('the', 'DET'), ('five', 'NUM'), ('surviving', 'VERB'), ('workers', 'NOUN'), ('have', 'VERB'), ('asbestos-related', 'ADJ'), ('diseases', 'NOUN'), (',', '.'), ('including', 'VERB'), ('three', 'NUM'), ('with', 'ADP'), ('recently', 'ADV'), ('diagnosed', 'VERB'), ('cancer', 'NOUN'), ('.', '.')], [('The', 'DET'), ('total', 'NOUN'), ('of', 'ADP'), ('18', 'NUM'), ('deaths', 'NOUN'), ('from', 'ADP'), ('malignant', 'ADJ'), ('mesothelioma', 'NOUN'), (',', '.'), ('lung', 'NOUN'), ('cancer', 'NOUN'), ('and', 'CONJ'), ('asbestosis', 'NOUN'), ('was', 'VERB'), ('far', 'ADV'), ('higher', 'ADJ'), ('than', 'ADP'), ('*', 'X'), ('expected', 'VERB'), ('*?*', 'X'), (',', '.'), ('the', 'DET'), ('researchers', 'NOUN'), ('said', 'VERB'), ('0', 'X'), ('*T*-1', 'X'), ('.', '.')], [('``', '.'), ('The', 'DET'), ('morbidity', 'NOUN'), ('rate', 'NOUN'), ('is', 'VERB'), ('a', 'DET'), ('striking', 'ADJ'), ('finding', 'NOUN'), ('among', 'ADP'), ('those', 'DET'), ('of', 'ADP'), ('us', 'PRON'), ('who', 'PRON'), ('*T*-5', 'X'), ('study', 'VERB'), ('asbestos-related', 'ADJ'), ('diseases', 'NOUN'), (',', '.'), (\"''\", '.'), ('said', 'VERB'), ('*T*-1', 'X'), ('Dr.', 'NOUN'), ('Talcott', 'NOUN'), ('.', '.')], [('The', 'DET'), ('percentage', 'NOUN'), ('of', 'ADP'), ('lung', 'NOUN'), ('cancer', 'NOUN'), ('deaths', 'NOUN'), ('among', 'ADP'), ('the', 'DET'), ('workers', 'NOUN'), ('at', 'ADP'), ('the', 'DET'), ('West', 'NOUN'), ('Groton', 'NOUN'), (',', '.'), ('Mass.', 'NOUN'), (',', '.'), ('paper', 'NOUN'), ('factory', 'NOUN'), ('appears', 'VERB'), ('*-1', 'X'), ('to', 'PRT'), ('be', 'VERB'), ('the', 'DET'), ('highest', 'ADJ'), ('for', 'ADP'), ('any', 'DET'), ('asbestos', 'NOUN'), ('workers', 'NOUN'), ('studied', 'VERB'), ('*', 'X'), ('in', 'ADP'), ('Western', 'ADJ'), ('industrialized', 'VERB'), ('countries', 'NOUN'), (',', '.'), ('he', 'PRON'), ('said', 'VERB'), ('0', 'X'), ('*T*-2', 'X'), ('.', '.')]]\n"
     ]
    }
   ],
   "source": [
    "#printing the first few sentences\n",
    "print(nltk_data[:20])"
   ]
  },
  {
   "cell_type": "code",
   "execution_count": 4,
   "metadata": {},
   "outputs": [
    {
     "name": "stdout",
     "output_type": "stream",
     "text": [
      "3718\n",
      "196\n",
      "[[('At', 'ADP'), ('the', 'DET'), ('same', 'ADJ'), ('time', 'NOUN'), (',', '.'), ('though', 'ADV'), (',', '.'), ('he', 'PRON'), ('chastised', 'VERB'), ('the', 'DET'), ('media', 'NOUN'), ('for', 'ADP'), ('*', 'X'), ('paying', 'VERB'), ('such', 'ADJ'), ('close', 'ADJ'), ('attention', 'NOUN'), ('to', 'PRT'), ('Japanese', 'ADJ'), ('investment', 'NOUN'), ('when', 'ADV'), ('other', 'ADJ'), ('foreign', 'ADJ'), ('countries', 'NOUN'), (',', '.'), ('notably', 'ADV'), ('Britain', 'NOUN'), (',', '.'), ('are', 'VERB'), ('acquiring', 'VERB'), ('more', 'ADJ'), ('American', 'ADJ'), ('assets', 'NOUN'), ('*T*-1', 'X'), ('.', '.')], [('Any', 'DET'), ('question', 'NOUN'), ('as', 'ADP'), ('to', 'PRT'), ('why', 'ADV'), ('an', 'DET'), ('author', 'NOUN'), ('would', 'VERB'), ('believe', 'VERB'), ('0', 'X'), ('this', 'DET'), ('plaintive', 'ADJ'), (',', '.'), ('high-minded', 'ADJ'), ('note', 'NOUN'), ('of', 'ADP'), ('assurance', 'NOUN'), ('is', 'VERB'), ('necessary', 'ADJ'), ('*T*-2', 'X'), ('is', 'VERB'), ('answered', 'VERB'), ('*-1', 'X'), ('by', 'ADP'), ('*', 'X'), ('reading', 'VERB'), ('this', 'DET'), ('book', 'NOUN'), ('about', 'ADP'), ('sticky', 'ADJ'), ('fingers', 'NOUN'), ('and', 'CONJ'), ('sweaty', 'ADJ'), ('scammers', 'NOUN'), ('.', '.')], [('Mrs.', 'NOUN'), ('Hills', 'NOUN'), ('lauded', 'VERB'), ('South', 'NOUN'), ('Korea', 'NOUN'), ('for', 'ADP'), ('*-1', 'X'), ('creating', 'VERB'), ('an', 'DET'), ('intellectual-property', 'ADJ'), ('task', 'NOUN'), ('force', 'NOUN'), ('and', 'CONJ'), ('special', 'ADJ'), ('enforcement', 'NOUN'), ('teams', 'NOUN'), ('of', 'ADP'), ('police', 'NOUN'), ('officers', 'NOUN'), ('and', 'CONJ'), ('prosecutors', 'NOUN'), ('trained', 'VERB'), ('*', 'X'), ('to', 'PRT'), ('pursue', 'VERB'), ('movie', 'NOUN'), ('and', 'CONJ'), ('book', 'NOUN'), ('pirates', 'NOUN'), ('.', '.')], [('The', 'DET'), ('prime', 'ADJ'), ('minister', 'NOUN'), (\"'s\", 'PRT'), ('opponents', 'NOUN'), ('claimed', 'VERB'), ('0', 'X'), ('the', 'DET'), ('balloting', 'NOUN'), (',', '.'), ('12', 'NUM'), ('votes', 'NOUN'), ('short', 'ADJ'), ('of', 'ADP'), ('a', 'DET'), ('majority', 'NOUN'), ('in', 'ADP'), ('Islamabad', 'NOUN'), (\"'s\", 'PRT'), ('237-seat', 'ADJ'), ('assembly', 'NOUN'), (',', '.'), ('was', 'VERB'), ('rigged', 'VERB'), ('*-1', 'X'), ('.', '.')], [('Moscow', 'NOUN'), ('has', 'VERB'), ('settled', 'VERB'), ('pre-1917', 'ADJ'), ('debts', 'NOUN'), ('with', 'ADP'), ('other', 'ADJ'), ('countries', 'NOUN'), ('in', 'ADP'), ('recent', 'ADJ'), ('years', 'NOUN'), ('at', 'ADP'), ('less', 'ADJ'), ('than', 'ADP'), ('face', 'NOUN'), ('value', 'NOUN'), ('.', '.')], [('The', 'DET'), ('vicar', 'NOUN'), (',', '.'), ('W.D.', 'NOUN'), ('Jones', 'NOUN'), (',', '.'), ('refuses', 'VERB'), ('*-1', 'X'), ('to', 'PRT'), ('talk', 'VERB'), ('about', 'ADP'), ('it', 'PRON'), (',', '.'), ('*-1', 'X'), ('saying', 'VERB'), ('0', 'X'), ('it', 'PRON'), ('would', 'VERB'), ('``', '.'), ('reopen', 'VERB'), ('the', 'DET'), ('wound', 'NOUN'), ('.', '.'), (\"''\", '.')], [('Payments', 'NOUN'), ('are', 'VERB'), ('expected', 'VERB'), ('*-1', 'X'), ('to', 'PRT'), ('range', 'VERB'), ('between', 'ADP'), ('$', '.'), ('9', 'NUM'), ('billion', 'NUM'), ('*U*', 'X'), ('and', 'CONJ'), ('$', '.'), ('12', 'NUM'), ('billion', 'NUM'), ('*U*', 'X'), ('this', 'DET'), ('year', 'NOUN'), ('.', '.')], [('``', '.'), ('The', 'DET'), ('real', 'ADJ'), ('difference', 'NOUN'), ('seems', 'VERB'), ('*-1', 'X'), ('to', 'PRT'), ('be', 'VERB'), ('that', 'ADP'), ('the', 'DET'), ('cash', 'NOUN'), ('market', 'NOUN'), ('here', 'ADV'), ('...', '.'), ('is', 'VERB'), ('big', 'ADJ'), ('enough', 'ADV'), ('*RNR*-2', 'X'), ('and', 'CONJ'), ('liquid', 'NOUN'), ('enough', 'ADV'), ('*RNR*-2', 'X'), ('that', 'ADP'), ('the', 'DET'), ('futures', 'NOUN'), ('market', 'NOUN'), ('is', 'VERB'), (\"n't\", 'ADV'), ('having', 'VERB'), ('the', 'DET'), ('same', 'ADJ'), ('impact', 'NOUN'), ('0', 'X'), ('it', 'PRON'), ('does', 'VERB'), ('*?*', 'X'), ('*T*-3', 'X'), ('in', 'ADP'), ('America', 'NOUN'), ('.', '.'), (\"''\", '.')], [('McDermott', 'NOUN'), ('International', 'NOUN'), ('Inc.', 'NOUN'), ('said', 'VERB'), ('0', 'X'), ('its', 'PRON'), ('Babcock', 'NOUN'), ('&', 'CONJ'), ('Wilcox', 'NOUN'), ('unit', 'NOUN'), ('completed', 'VERB'), ('the', 'DET'), ('sale', 'NOUN'), ('of', 'ADP'), ('its', 'PRON'), ('Bailey', 'NOUN'), ('Controls', 'NOUN'), ('Operations', 'NOUN'), ('to', 'PRT'), ('Finmeccanica', 'NOUN'), ('S.p', 'NOUN'), ('.', '.'), ('A.', 'NOUN'), ('for', 'ADP'), ('$', '.'), ('295', 'NUM'), ('million', 'NUM'), ('*U*', 'X'), ('.', '.')], [('Intermec', 'NOUN'), ('Corp.', 'NOUN'), (',', '.'), ('offering', 'VERB'), ('of', 'ADP'), ('1,050,000', 'NUM'), ('common', 'ADJ'), ('shares', 'NOUN'), (',', '.'), ('via', 'ADP'), ('Goldman', 'NOUN'), (',', '.'), ('Sachs', 'NOUN'), ('&', 'CONJ'), ('Co.', 'NOUN'), ('and', 'CONJ'), ('Piper', 'NOUN'), (',', '.'), ('Jaffray', 'NOUN'), ('&', 'CONJ'), ('Hopwood', 'NOUN'), ('Inc', 'NOUN'), ('.', '.')], [('The', 'DET'), ('company', 'NOUN'), (\"'s\", 'PRT'), ('work', 'NOUN'), ('force', 'NOUN'), ('will', 'VERB'), ('fall', 'VERB'), ('to', 'PRT'), ('about', 'ADP'), ('400', 'NUM'), ('people', 'NOUN'), ('.', '.')], [('Soon', 'ADV'), (',', '.'), ('it', 'PRON'), ('will', 'VERB'), ('split', 'VERB'), ('those', 'DET'), ('into', 'ADP'), ('30', 'NUM'), ('.', '.')], [('As', 'ADP'), ('partisans', 'NOUN'), ('of', 'ADP'), ('congressional', 'ADJ'), ('power', 'NOUN'), ('understand', 'VERB'), (',', '.'), ('a', 'DET'), ('``', '.'), ('power', 'NOUN'), ('of', 'ADP'), ('the', 'DET'), ('purse', 'NOUN'), (\"''\", '.'), ('so', 'ADV'), ('broadly', 'ADV'), ('construed', 'VERB'), ('*', 'X'), ('would', 'VERB'), ('emasculate', 'VERB'), ('the', 'DET'), ('presidency', 'NOUN'), ('and', 'CONJ'), ('swallow', 'VERB'), ('the', 'DET'), ('principle', 'NOUN'), ('of', 'ADP'), ('separation', 'NOUN'), ('of', 'ADP'), ('powers', 'NOUN'), ('.', '.')], [('By', 'ADP'), ('comparison', 'NOUN'), (',', '.'), ('for', 'ADP'), ('the', 'DET'), ('first', 'ADJ'), ('nine', 'NUM'), ('months', 'NOUN'), (',', '.'), ('Xerox', 'NOUN'), ('earned', 'VERB'), ('$', '.'), ('492', 'NUM'), ('million', 'NUM'), ('*U*', 'X'), (',', '.'), ('or', 'CONJ'), ('$', '.'), ('4.55', 'NUM'), ('*U*', 'X'), ('a', 'DET'), ('share', 'NOUN'), (',', '.'), ('on', 'ADP'), ('revenue', 'NOUN'), ('of', 'ADP'), ('$', '.'), ('12.97', 'NUM'), ('billion', 'NUM'), ('*U*', 'X'), ('.', '.')], [('Some', 'DET'), ('banks', 'NOUN'), ('are', 'VERB'), ('already', 'ADV'), ('moving', 'VERB'), ('in', 'ADP'), ('that', 'DET'), ('direction', 'NOUN'), (',', '.'), ('according', 'VERB'), ('to', 'PRT'), ('Alvin', 'NOUN'), ('T.', 'NOUN'), ('Sale', 'NOUN'), (',', '.'), ('marketing', 'NOUN'), ('director', 'NOUN'), ('at', 'ADP'), ('First', 'NOUN'), ('Union', 'NOUN'), ('Corp.', 'NOUN'), ('in', 'ADP'), ('Charlotte', 'NOUN'), ('.', '.')], [('Section', 'NOUN'), ('605', 'NUM'), ('also', 'ADV'), ('imposes', 'VERB'), ('unconstitutional', 'ADJ'), ('conditions', 'NOUN'), ('on', 'ADP'), ('the', 'DET'), ('president', 'NOUN'), (\"'s\", 'PRT'), ('ability', 'NOUN'), ('*', 'X'), ('to', 'PRT'), ('nominate', 'VERB'), ('candidates', 'NOUN'), ('of', 'ADP'), ('his', 'PRON'), ('choosing', 'NOUN'), ('.', '.')], [('New', 'NOUN'), ('York', 'NOUN'), ('financier', 'NOUN'), ('Saul', 'NOUN'), ('Steinberg', 'NOUN'), ('sought', 'VERB'), ('federal', 'ADJ'), ('permission', 'NOUN'), ('*', 'X'), ('to', 'PRT'), ('buy', 'VERB'), ('more', 'ADJ'), ('than', 'ADP'), ('15', 'NUM'), ('%', 'NOUN'), ('of', 'ADP'), ('United', 'NOUN'), ('Airlines', 'NOUN'), (\"'\", 'PRT'), ('parent', 'NOUN'), (',', '.'), ('UAL', 'NOUN'), ('Corp.', 'NOUN'), (',', '.'), ('*-1', 'X'), ('saying', 'VERB'), ('0', 'X'), ('he', 'PRON'), ('might', 'VERB'), ('seek', 'VERB'), ('control', 'NOUN'), ('of', 'ADP'), ('the', 'DET'), ('nation', 'NOUN'), (\"'s\", 'PRT'), ('second-largest', 'ADJ'), ('airline', 'NOUN'), ('.', '.')], [('Spending', 'NOUN'), ('on', 'ADP'), ('private', 'ADJ'), (',', '.'), ('nonresidential', 'ADJ'), ('construction', 'NOUN'), ('was', 'VERB'), ('off', 'ADJ'), ('2.6', 'NUM'), ('%', 'NOUN'), ('to', 'PRT'), ('an', 'DET'), ('annual', 'ADJ'), ('rate', 'NOUN'), ('of', 'ADP'), ('$', '.'), ('99.1', 'NUM'), ('billion', 'NUM'), ('*U*', 'X'), ('with', 'ADP'), ('no', 'DET'), ('sector', 'NOUN'), ('showing', 'VERB'), ('strength', 'NOUN'), ('.', '.')], [('Valley', 'NOUN'), ('Federal', 'NOUN'), ('Savings', 'NOUN'), ('&', 'CONJ'), ('Loan', 'NOUN'), (',', '.'), ('a', 'DET'), ('California', 'NOUN'), ('thrift', 'NOUN'), ('issue', 'NOUN'), (',', '.'), ('gained', 'VERB'), ('1', 'NUM'), ('to', 'PRT'), ('4', 'NUM'), ('1\\\\/4', 'NUM'), ('after', 'ADP'), ('*-1', 'X'), ('reporting', 'VERB'), ('a', 'DET'), ('third-quarter', 'ADJ'), ('loss', 'NOUN'), ('of', 'ADP'), ('$', '.'), ('70.7', 'NUM'), ('million', 'NUM'), ('*U*', 'X'), ('after', 'ADP'), ('an', 'DET'), ('$', '.'), ('89.9', 'NUM'), ('million', 'NUM'), ('*U*', 'X'), ('pretax', 'ADJ'), ('charge', 'NOUN'), ('mostly', 'ADV'), ('related', 'ADJ'), ('to', 'PRT'), ('its', 'PRON'), ('mobile', 'ADJ'), ('home', 'NOUN'), ('financing', 'VERB'), ('unit', 'NOUN'), ('.', '.')], [('Such', 'ADJ'), ('laws', 'NOUN'), ('violate', 'VERB'), ('the', 'DET'), ('provision', 'NOUN'), ('in', 'ADP'), ('Article', 'NOUN'), ('II', 'NOUN'), ('that', 'DET'), ('*T*-1', 'X'), ('requires', 'VERB'), ('the', 'DET'), ('president', 'NOUN'), ('to', 'PRT'), ('make', 'VERB'), ('recommendations', 'NOUN'), ('to', 'PRT'), ('Congress', 'NOUN'), (',', '.'), ('but', 'CONJ'), ('which', 'DET'), ('*T*-41', 'X'), ('gives', 'VERB'), ('the', 'DET'), ('president', 'NOUN'), ('the', 'DET'), ('discretion', 'NOUN'), ('0', 'X'), ('*', 'X'), ('to', 'PRT'), ('select', 'VERB'), ('the', 'DET'), ('subject', 'ADJ'), ('matter', 'NOUN'), ('of', 'ADP'), ('those', 'DET'), ('recommendations', 'NOUN'), ('*T*-2', 'X'), ('.', '.')]]\n"
     ]
    }
   ],
   "source": [
    "#splitting the data into train and validation set\n",
    "random.seed(1234)\n",
    "train_set, valid_set = train_test_split(nltk_data,train_size = 0.95, test_size = 0.05)\n",
    "\n",
    "print(len(train_set))\n",
    "print(len(valid_set))\n",
    "print(train_set[:20])"
   ]
  },
  {
   "cell_type": "code",
   "execution_count": 5,
   "metadata": {},
   "outputs": [
    {
     "data": {
      "text/plain": [
       "[('At', 'ADP'),\n",
       " ('the', 'DET'),\n",
       " ('same', 'ADJ'),\n",
       " ('time', 'NOUN'),\n",
       " (',', '.'),\n",
       " ('though', 'ADV'),\n",
       " (',', '.'),\n",
       " ('he', 'PRON'),\n",
       " ('chastised', 'VERB'),\n",
       " ('the', 'DET')]"
      ]
     },
     "execution_count": 5,
     "metadata": {},
     "output_type": "execute_result"
    }
   ],
   "source": [
    "#getting the list of tagged words\n",
    "train_tagged_words = [tup for sent in train_set for tup in sent]\n",
    "train_tagged_words[:10]"
   ]
  },
  {
   "cell_type": "code",
   "execution_count": 6,
   "metadata": {},
   "outputs": [
    {
     "name": "stdout",
     "output_type": "stream",
     "text": [
      "95937\n"
     ]
    }
   ],
   "source": [
    "#printing the length of tagged words in the train set\n",
    "print(len(train_tagged_words))"
   ]
  },
  {
   "cell_type": "code",
   "execution_count": 7,
   "metadata": {},
   "outputs": [
    {
     "data": {
      "text/plain": [
       "['At', 'the', 'same', 'time', ',', 'though', ',', 'he', 'chastised', 'the']"
      ]
     },
     "execution_count": 7,
     "metadata": {},
     "output_type": "execute_result"
    }
   ],
   "source": [
    "#tokens\n",
    "tokens = [pair[0] for pair in train_tagged_words]\n",
    "tokens[:10]"
   ]
  },
  {
   "cell_type": "code",
   "execution_count": 8,
   "metadata": {},
   "outputs": [
    {
     "name": "stdout",
     "output_type": "stream",
     "text": [
      "12111\n"
     ]
    }
   ],
   "source": [
    "#vocabulary\n",
    "V = set(tokens)\n",
    "print(len(V))"
   ]
  },
  {
   "cell_type": "code",
   "execution_count": 9,
   "metadata": {},
   "outputs": [
    {
     "data": {
      "text/plain": [
       "12"
      ]
     },
     "execution_count": 9,
     "metadata": {},
     "output_type": "execute_result"
    }
   ],
   "source": [
    "#number of tags in the train_set\n",
    "T = set([pair[1] for pair in train_tagged_words])\n",
    "len(T)"
   ]
  },
  {
   "cell_type": "code",
   "execution_count": 10,
   "metadata": {},
   "outputs": [
    {
     "name": "stdout",
     "output_type": "stream",
     "text": [
      "{'DET', '.', 'NOUN', 'X', 'ADV', 'NUM', 'CONJ', 'ADJ', 'ADP', 'PRON', 'VERB', 'PRT'}\n"
     ]
    }
   ],
   "source": [
    "#printing the Tags\n",
    "print(T)"
   ]
  },
  {
   "cell_type": "markdown",
   "metadata": {},
   "source": [
    "### 2. POS Tagging Algorithm - HMM"
   ]
  },
  {
   "cell_type": "markdown",
   "metadata": {},
   "source": [
    "**Emission Probabilities**"
   ]
  },
  {
   "cell_type": "code",
   "execution_count": 11,
   "metadata": {},
   "outputs": [],
   "source": [
    "#computing P(w/t) probability of word given tag and storing in T X V Matrix\n",
    "t = len(T)\n",
    "v = len(V)\n",
    "w_given_t = np.zeros((t, v))"
   ]
  },
  {
   "cell_type": "code",
   "execution_count": 12,
   "metadata": {},
   "outputs": [],
   "source": [
    "#computing the word given tag : Emission Probability\n",
    "def word_given_tag(word, tag, train_bag = train_tagged_words):\n",
    "    tag_list = [pair for pair in train_bag if pair[1] == tag]\n",
    "    count_tag = len(tag_list)\n",
    "    w_given_tag_list = [pair[0] for pair in tag_list if pair[0] == word]\n",
    "    count_w_given_tag = len(w_given_tag_list)\n",
    "    \n",
    "    return(count_w_given_tag, count_tag)"
   ]
  },
  {
   "cell_type": "code",
   "execution_count": 13,
   "metadata": {},
   "outputs": [
    {
     "name": "stdout",
     "output_type": "stream",
     "text": [
      "Banks\n",
      "(3, 27557)\n",
      "(0, 3006)\n",
      "(0, 6101)\n",
      "(0, 2584)\n",
      "\n",
      " could\n",
      "(118, 12865)\n",
      "(0, 27557)\n",
      "(0, 3006)\n",
      "(0, 9404)\n"
     ]
    }
   ],
   "source": [
    "#some examples of the above function\n",
    "#Banks\n",
    "print(\"Banks\")\n",
    "print(word_given_tag(\"Banks\", 'NOUN'))\n",
    "print(word_given_tag(\"Banks\", 'ADV'))\n",
    "print(word_given_tag(\"Banks\", 'ADJ'))\n",
    "print(word_given_tag(\"Banks\", 'PRON'))\n",
    "\n",
    "#could\n",
    "print(\"\\n\", \"could\")\n",
    "print(word_given_tag(\"could\", \"VERB\"))\n",
    "print(word_given_tag(\"could\", \"NOUN\"))\n",
    "print(word_given_tag(\"could\", \"ADV\"))\n",
    "print(word_given_tag(\"could\", \"ADP\"))"
   ]
  },
  {
   "cell_type": "markdown",
   "metadata": {},
   "source": [
    "**Transistion Probabilities**"
   ]
  },
  {
   "cell_type": "code",
   "execution_count": 14,
   "metadata": {},
   "outputs": [],
   "source": [
    "#computing tag given tag: tag2(t1) given tag1(t1) which is the transistion probability\n",
    "\n",
    "def t2_given_t1(t2, t1, train_bag = train_tagged_words):\n",
    "    tags = [pair[1] for pair in train_bag]\n",
    "    count_t1 = len([t for t in tags if t==t1])\n",
    "    count_t2_t1 = 0\n",
    "    for index in range(len(tags)-1):\n",
    "        if tags[index] == t1 and tags[index + 1] == t2:\n",
    "            count_t2_t1 += 1\n",
    "    return(count_t2_t1, count_t1)"
   ]
  },
  {
   "cell_type": "code",
   "execution_count": 15,
   "metadata": {},
   "outputs": [
    {
     "name": "stdout",
     "output_type": "stream",
     "text": [
      "(5318, 8331)\n",
      "(4034, 27557)\n",
      "(1050, 12865)\n"
     ]
    }
   ],
   "source": [
    "#examples\n",
    "print(t2_given_t1('NOUN', 'DET'))\n",
    "print(t2_given_t1('VERB', 'NOUN'))\n",
    "print(t2_given_t1('ADV', 'VERB'))"
   ]
  },
  {
   "cell_type": "code",
   "execution_count": 16,
   "metadata": {},
   "outputs": [
    {
     "name": "stdout",
     "output_type": "stream",
     "text": [
      "(2490, 11189)\n",
      "(994, 11189)\n",
      "(1947, 11189)\n"
     ]
    }
   ],
   "source": [
    "#p(tag|start) is same as p(tag|.)\n",
    "print(t2_given_t1('NOUN', '.'))\n",
    "print(t2_given_t1('VERB', '.'))\n",
    "print(t2_given_t1('DET', '.'))"
   ]
  },
  {
   "cell_type": "code",
   "execution_count": 17,
   "metadata": {},
   "outputs": [],
   "source": [
    "#creating a t x t transistion matrix of tags\n",
    "#each column is t2 and each row is t1\n",
    "# thus matrix(i, j) represents p(tj given ti)\n",
    "\n",
    "tags_matrix = np.zeros((len(T), len(T)), dtype = 'float32')\n",
    "for i, t1 in enumerate(list(T)):\n",
    "    for j, t2 in enumerate(list(T)):\n",
    "        tags_matrix[i, j] = t2_given_t1(t2, t1)[0] / t2_given_t1(t2, t1)[1] "
   ]
  },
  {
   "cell_type": "code",
   "execution_count": 18,
   "metadata": {},
   "outputs": [
    {
     "data": {
      "text/plain": [
       "array([[5.40151261e-03, 1.76449399e-02, 6.38338745e-01, 4.58528399e-02,\n",
       "        1.28435958e-02, 2.13659815e-02, 4.80134448e-04, 2.06097707e-01,\n",
       "        9.60268918e-03, 3.60100833e-03, 3.85307893e-02, 2.40067224e-04],\n",
       "       [1.74010187e-01, 9.31271762e-02, 2.22539991e-01, 2.72589158e-02,\n",
       "        5.24622388e-02, 8.19554925e-02, 5.81821427e-02, 4.38823849e-02,\n",
       "        9.02672261e-02, 6.48851544e-02, 8.88372511e-02, 2.50245770e-03],\n",
       "       [1.31001193e-02, 2.40483359e-01, 2.64687747e-01, 2.87041403e-02,\n",
       "        1.68741159e-02, 9.50756576e-03, 4.24211621e-02, 1.22654857e-02,\n",
       "        1.77414089e-01, 4.89893695e-03, 1.46387488e-01, 4.32557985e-02],\n",
       "       [5.46899848e-02, 1.63751990e-01, 6.24801256e-02, 7.45627955e-02,\n",
       "        2.59141494e-02, 2.86168512e-03, 1.06518287e-02, 1.68521460e-02,\n",
       "        1.44833073e-01, 5.58028631e-02, 2.03656599e-01, 1.83942765e-01],\n",
       "       [6.85296059e-02, 1.35728538e-01, 3.12707908e-02, 2.32867599e-02,\n",
       "        7.85096437e-02, 3.16034593e-02, 6.98602805e-03, 1.32734537e-01,\n",
       "        1.17764473e-01, 1.46373920e-02, 3.44976723e-01, 1.39720561e-02],\n",
       "       [3.23434290e-03, 1.15260221e-01, 3.52249324e-01, 2.12584540e-01,\n",
       "        2.94031156e-03, 1.86121732e-01, 1.44075276e-02, 3.26374583e-02,\n",
       "        3.49897072e-02, 1.17612467e-03, 1.82299316e-02, 2.61687748e-02],\n",
       "       [1.17375232e-01, 3.65064703e-02, 3.49815160e-01, 8.31792969e-03,\n",
       "        5.36044352e-02, 4.25138623e-02, 4.62107215e-04, 1.18761554e-01,\n",
       "        5.36044352e-02, 5.86876161e-02, 1.55268028e-01, 5.08317910e-03],\n",
       "       [4.91722673e-03, 6.53991178e-02, 6.98901832e-01, 2.04884447e-02,\n",
       "        4.75331908e-03, 2.11440753e-02, 1.72102936e-02, 6.68742806e-02,\n",
       "        7.67087340e-02, 6.55630196e-04, 1.19652515e-02, 1.09818066e-02],\n",
       "       [3.25393438e-01, 4.04083356e-02, 3.22416008e-01, 3.47724371e-02,\n",
       "        1.32922158e-02, 6.29519373e-02, 8.50701821e-04, 1.05274349e-01,\n",
       "        1.69076994e-02, 6.80561438e-02, 8.18800554e-03, 1.48872822e-03],\n",
       "       [8.90092924e-03, 4.14086692e-02, 2.08591327e-01, 9.17182639e-02,\n",
       "        3.32817324e-02, 6.96594408e-03, 5.41795650e-03, 7.19814226e-02,\n",
       "        2.24458203e-02, 7.35294120e-03, 4.88777101e-01, 1.31578948e-02],\n",
       "       [1.35483876e-01, 3.45899723e-02, 1.11154296e-01, 2.17877969e-01,\n",
       "        8.16167891e-02, 2.29304321e-02, 5.28565887e-03, 6.49825111e-02,\n",
       "        9.16439965e-02, 3.49786244e-02, 1.68130592e-01, 3.13253030e-02],\n",
       "       [1.00821018e-01, 4.36781608e-02, 2.45648608e-01, 1.31362891e-02,\n",
       "        1.05090309e-02, 5.64860441e-02, 2.29885057e-03, 8.60426947e-02,\n",
       "        1.97044332e-02, 1.77339893e-02, 4.01970446e-01, 1.97044341e-03]],\n",
       "      dtype=float32)"
      ]
     },
     "execution_count": 18,
     "metadata": {},
     "output_type": "execute_result"
    }
   ],
   "source": [
    "#printing the tags_matrix\n",
    "tags_matrix"
   ]
  },
  {
   "cell_type": "code",
   "execution_count": 19,
   "metadata": {},
   "outputs": [
    {
     "data": {
      "text/html": [
       "<div>\n",
       "<style scoped>\n",
       "    .dataframe tbody tr th:only-of-type {\n",
       "        vertical-align: middle;\n",
       "    }\n",
       "\n",
       "    .dataframe tbody tr th {\n",
       "        vertical-align: top;\n",
       "    }\n",
       "\n",
       "    .dataframe thead th {\n",
       "        text-align: right;\n",
       "    }\n",
       "</style>\n",
       "<table border=\"1\" class=\"dataframe\">\n",
       "  <thead>\n",
       "    <tr style=\"text-align: right;\">\n",
       "      <th></th>\n",
       "      <th>DET</th>\n",
       "      <th>.</th>\n",
       "      <th>NOUN</th>\n",
       "      <th>X</th>\n",
       "      <th>ADV</th>\n",
       "      <th>NUM</th>\n",
       "      <th>CONJ</th>\n",
       "      <th>ADJ</th>\n",
       "      <th>ADP</th>\n",
       "      <th>PRON</th>\n",
       "      <th>VERB</th>\n",
       "      <th>PRT</th>\n",
       "    </tr>\n",
       "  </thead>\n",
       "  <tbody>\n",
       "    <tr>\n",
       "      <th>DET</th>\n",
       "      <td>0.005402</td>\n",
       "      <td>0.017645</td>\n",
       "      <td>0.638339</td>\n",
       "      <td>0.045853</td>\n",
       "      <td>0.012844</td>\n",
       "      <td>0.021366</td>\n",
       "      <td>0.000480</td>\n",
       "      <td>0.206098</td>\n",
       "      <td>0.009603</td>\n",
       "      <td>0.003601</td>\n",
       "      <td>0.038531</td>\n",
       "      <td>0.000240</td>\n",
       "    </tr>\n",
       "    <tr>\n",
       "      <th>.</th>\n",
       "      <td>0.174010</td>\n",
       "      <td>0.093127</td>\n",
       "      <td>0.222540</td>\n",
       "      <td>0.027259</td>\n",
       "      <td>0.052462</td>\n",
       "      <td>0.081955</td>\n",
       "      <td>0.058182</td>\n",
       "      <td>0.043882</td>\n",
       "      <td>0.090267</td>\n",
       "      <td>0.064885</td>\n",
       "      <td>0.088837</td>\n",
       "      <td>0.002502</td>\n",
       "    </tr>\n",
       "    <tr>\n",
       "      <th>NOUN</th>\n",
       "      <td>0.013100</td>\n",
       "      <td>0.240483</td>\n",
       "      <td>0.264688</td>\n",
       "      <td>0.028704</td>\n",
       "      <td>0.016874</td>\n",
       "      <td>0.009508</td>\n",
       "      <td>0.042421</td>\n",
       "      <td>0.012265</td>\n",
       "      <td>0.177414</td>\n",
       "      <td>0.004899</td>\n",
       "      <td>0.146387</td>\n",
       "      <td>0.043256</td>\n",
       "    </tr>\n",
       "    <tr>\n",
       "      <th>X</th>\n",
       "      <td>0.054690</td>\n",
       "      <td>0.163752</td>\n",
       "      <td>0.062480</td>\n",
       "      <td>0.074563</td>\n",
       "      <td>0.025914</td>\n",
       "      <td>0.002862</td>\n",
       "      <td>0.010652</td>\n",
       "      <td>0.016852</td>\n",
       "      <td>0.144833</td>\n",
       "      <td>0.055803</td>\n",
       "      <td>0.203657</td>\n",
       "      <td>0.183943</td>\n",
       "    </tr>\n",
       "    <tr>\n",
       "      <th>ADV</th>\n",
       "      <td>0.068530</td>\n",
       "      <td>0.135729</td>\n",
       "      <td>0.031271</td>\n",
       "      <td>0.023287</td>\n",
       "      <td>0.078510</td>\n",
       "      <td>0.031603</td>\n",
       "      <td>0.006986</td>\n",
       "      <td>0.132735</td>\n",
       "      <td>0.117764</td>\n",
       "      <td>0.014637</td>\n",
       "      <td>0.344977</td>\n",
       "      <td>0.013972</td>\n",
       "    </tr>\n",
       "    <tr>\n",
       "      <th>NUM</th>\n",
       "      <td>0.003234</td>\n",
       "      <td>0.115260</td>\n",
       "      <td>0.352249</td>\n",
       "      <td>0.212585</td>\n",
       "      <td>0.002940</td>\n",
       "      <td>0.186122</td>\n",
       "      <td>0.014408</td>\n",
       "      <td>0.032637</td>\n",
       "      <td>0.034990</td>\n",
       "      <td>0.001176</td>\n",
       "      <td>0.018230</td>\n",
       "      <td>0.026169</td>\n",
       "    </tr>\n",
       "    <tr>\n",
       "      <th>CONJ</th>\n",
       "      <td>0.117375</td>\n",
       "      <td>0.036506</td>\n",
       "      <td>0.349815</td>\n",
       "      <td>0.008318</td>\n",
       "      <td>0.053604</td>\n",
       "      <td>0.042514</td>\n",
       "      <td>0.000462</td>\n",
       "      <td>0.118762</td>\n",
       "      <td>0.053604</td>\n",
       "      <td>0.058688</td>\n",
       "      <td>0.155268</td>\n",
       "      <td>0.005083</td>\n",
       "    </tr>\n",
       "    <tr>\n",
       "      <th>ADJ</th>\n",
       "      <td>0.004917</td>\n",
       "      <td>0.065399</td>\n",
       "      <td>0.698902</td>\n",
       "      <td>0.020488</td>\n",
       "      <td>0.004753</td>\n",
       "      <td>0.021144</td>\n",
       "      <td>0.017210</td>\n",
       "      <td>0.066874</td>\n",
       "      <td>0.076709</td>\n",
       "      <td>0.000656</td>\n",
       "      <td>0.011965</td>\n",
       "      <td>0.010982</td>\n",
       "    </tr>\n",
       "    <tr>\n",
       "      <th>ADP</th>\n",
       "      <td>0.325393</td>\n",
       "      <td>0.040408</td>\n",
       "      <td>0.322416</td>\n",
       "      <td>0.034772</td>\n",
       "      <td>0.013292</td>\n",
       "      <td>0.062952</td>\n",
       "      <td>0.000851</td>\n",
       "      <td>0.105274</td>\n",
       "      <td>0.016908</td>\n",
       "      <td>0.068056</td>\n",
       "      <td>0.008188</td>\n",
       "      <td>0.001489</td>\n",
       "    </tr>\n",
       "    <tr>\n",
       "      <th>PRON</th>\n",
       "      <td>0.008901</td>\n",
       "      <td>0.041409</td>\n",
       "      <td>0.208591</td>\n",
       "      <td>0.091718</td>\n",
       "      <td>0.033282</td>\n",
       "      <td>0.006966</td>\n",
       "      <td>0.005418</td>\n",
       "      <td>0.071981</td>\n",
       "      <td>0.022446</td>\n",
       "      <td>0.007353</td>\n",
       "      <td>0.488777</td>\n",
       "      <td>0.013158</td>\n",
       "    </tr>\n",
       "    <tr>\n",
       "      <th>VERB</th>\n",
       "      <td>0.135484</td>\n",
       "      <td>0.034590</td>\n",
       "      <td>0.111154</td>\n",
       "      <td>0.217878</td>\n",
       "      <td>0.081617</td>\n",
       "      <td>0.022930</td>\n",
       "      <td>0.005286</td>\n",
       "      <td>0.064983</td>\n",
       "      <td>0.091644</td>\n",
       "      <td>0.034979</td>\n",
       "      <td>0.168131</td>\n",
       "      <td>0.031325</td>\n",
       "    </tr>\n",
       "    <tr>\n",
       "      <th>PRT</th>\n",
       "      <td>0.100821</td>\n",
       "      <td>0.043678</td>\n",
       "      <td>0.245649</td>\n",
       "      <td>0.013136</td>\n",
       "      <td>0.010509</td>\n",
       "      <td>0.056486</td>\n",
       "      <td>0.002299</td>\n",
       "      <td>0.086043</td>\n",
       "      <td>0.019704</td>\n",
       "      <td>0.017734</td>\n",
       "      <td>0.401970</td>\n",
       "      <td>0.001970</td>\n",
       "    </tr>\n",
       "  </tbody>\n",
       "</table>\n",
       "</div>"
      ],
      "text/plain": [
       "           DET         .      NOUN         X       ADV       NUM      CONJ  \\\n",
       "DET   0.005402  0.017645  0.638339  0.045853  0.012844  0.021366  0.000480   \n",
       ".     0.174010  0.093127  0.222540  0.027259  0.052462  0.081955  0.058182   \n",
       "NOUN  0.013100  0.240483  0.264688  0.028704  0.016874  0.009508  0.042421   \n",
       "X     0.054690  0.163752  0.062480  0.074563  0.025914  0.002862  0.010652   \n",
       "ADV   0.068530  0.135729  0.031271  0.023287  0.078510  0.031603  0.006986   \n",
       "NUM   0.003234  0.115260  0.352249  0.212585  0.002940  0.186122  0.014408   \n",
       "CONJ  0.117375  0.036506  0.349815  0.008318  0.053604  0.042514  0.000462   \n",
       "ADJ   0.004917  0.065399  0.698902  0.020488  0.004753  0.021144  0.017210   \n",
       "ADP   0.325393  0.040408  0.322416  0.034772  0.013292  0.062952  0.000851   \n",
       "PRON  0.008901  0.041409  0.208591  0.091718  0.033282  0.006966  0.005418   \n",
       "VERB  0.135484  0.034590  0.111154  0.217878  0.081617  0.022930  0.005286   \n",
       "PRT   0.100821  0.043678  0.245649  0.013136  0.010509  0.056486  0.002299   \n",
       "\n",
       "           ADJ       ADP      PRON      VERB       PRT  \n",
       "DET   0.206098  0.009603  0.003601  0.038531  0.000240  \n",
       ".     0.043882  0.090267  0.064885  0.088837  0.002502  \n",
       "NOUN  0.012265  0.177414  0.004899  0.146387  0.043256  \n",
       "X     0.016852  0.144833  0.055803  0.203657  0.183943  \n",
       "ADV   0.132735  0.117764  0.014637  0.344977  0.013972  \n",
       "NUM   0.032637  0.034990  0.001176  0.018230  0.026169  \n",
       "CONJ  0.118762  0.053604  0.058688  0.155268  0.005083  \n",
       "ADJ   0.066874  0.076709  0.000656  0.011965  0.010982  \n",
       "ADP   0.105274  0.016908  0.068056  0.008188  0.001489  \n",
       "PRON  0.071981  0.022446  0.007353  0.488777  0.013158  \n",
       "VERB  0.064983  0.091644  0.034979  0.168131  0.031325  \n",
       "PRT   0.086043  0.019704  0.017734  0.401970  0.001970  "
      ]
     },
     "execution_count": 19,
     "metadata": {},
     "output_type": "execute_result"
    }
   ],
   "source": [
    "#converting the matrix to dataframe for a better readability\n",
    "tags_df = pd.DataFrame(tags_matrix, columns = list(T), index = list(T))\n",
    "tags_df"
   ]
  },
  {
   "cell_type": "code",
   "execution_count": 20,
   "metadata": {},
   "outputs": [
    {
     "data": {
      "text/plain": [
       "DET     0.174010\n",
       ".       0.093127\n",
       "NOUN    0.222540\n",
       "X       0.027259\n",
       "ADV     0.052462\n",
       "NUM     0.081955\n",
       "CONJ    0.058182\n",
       "ADJ     0.043882\n",
       "ADP     0.090267\n",
       "PRON    0.064885\n",
       "VERB    0.088837\n",
       "PRT     0.002502\n",
       "Name: ., dtype: float32"
      ]
     },
     "execution_count": 20,
     "metadata": {},
     "output_type": "execute_result"
    }
   ],
   "source": [
    "#checking which is the most prominent starting Tag\n",
    "tags_df.loc['.', :]"
   ]
  },
  {
   "cell_type": "markdown",
   "metadata": {},
   "source": [
    "From the above we can notice that 'NOUN' is most frequently starting Tag followed by 'DET'"
   ]
  },
  {
   "cell_type": "code",
   "execution_count": 21,
   "metadata": {},
   "outputs": [
    {
     "data": {
      "image/png": "[encoded data removed]",
      "text/plain": [
       "<Figure size 1080x720 with 2 Axes>"
      ]
     },
     "metadata": {
      "needs_background": "light"
     },
     "output_type": "display_data"
    }
   ],
   "source": [
    "#heatmap of the tags matrix\n",
    "plt.figure(figsize=(15,10))\n",
    "sns.heatmap(tags_df, annot = True)\n",
    "plt.show()"
   ]
  },
  {
   "cell_type": "markdown",
   "metadata": {},
   "source": [
    "From the above heatmap we could observe the following:\n",
    "1. Noun followed by Adjective is having a high proability\n",
    "2. Noun followed by Determinant is also having a high probability"
   ]
  },
  {
   "cell_type": "markdown",
   "metadata": {},
   "source": [
    "### 3. Viterbi Algorithm"
   ]
  },
  {
   "cell_type": "code",
   "execution_count": 22,
   "metadata": {},
   "outputs": [
    {
     "data": {
      "text/plain": [
       "95937"
      ]
     },
     "execution_count": 22,
     "metadata": {},
     "output_type": "execute_result"
    }
   ],
   "source": [
    "len(train_tagged_words)"
   ]
  },
  {
   "cell_type": "markdown",
   "metadata": {},
   "source": [
    "**Vanilla Viterbi Model**"
   ]
  },
  {
   "cell_type": "code",
   "execution_count": 23,
   "metadata": {},
   "outputs": [],
   "source": [
    "#Viterbi Heuristic\n",
    "def viterbi(words, train_bag = train_tagged_words):\n",
    "    state = []\n",
    "    T = list(set([pair[1] for pair in train_bag]))\n",
    "    \n",
    "    for key, word in enumerate(words):\n",
    "        #initialize list of probability column for a given observation\n",
    "        p = []\n",
    "        for tag in T:\n",
    "            if key == 0:\n",
    "                transition_p = tags_df.loc['.', tag]\n",
    "            else:\n",
    "                transition_p = tags_df.loc[state[-1], tag]\n",
    "            \n",
    "            #computing the emission and state probabilites\n",
    "            emission_p = word_given_tag(words[key], tag)[0] / word_given_tag(words[key], tag)[1]\n",
    "            state_probability = emission_p * transition_p\n",
    "            p.append(state_probability)\n",
    "        \n",
    "        pmax = max(p)\n",
    "        #getting state for which probability is maximum\n",
    "        state_max = T[p.index(pmax)]\n",
    "        state.append(state_max)\n",
    "    return list(zip(words, state))"
   ]
  },
  {
   "cell_type": "markdown",
   "metadata": {},
   "source": [
    "**Evaluation on the Validation Test**"
   ]
  },
  {
   "cell_type": "code",
   "execution_count": 24,
   "metadata": {},
   "outputs": [],
   "source": [
    "#running the entire test on the validation data will take a lot of time\n",
    "#hence we will run our algorithm on few sample test sentences\n",
    "\n",
    "random.seed(1234)\n",
    "\n",
    "#choosing 10 random sentences\n",
    "rndom = [random.randint(1, len(valid_set)) for x in range(10)]\n",
    "\n",
    "#list of sentences\n",
    "valid_run = [valid_set[i] for i in rndom]\n",
    "\n",
    "#list of tagged words\n",
    "valid_base = [tup for sent in valid_run for tup in sent]\n",
    "\n",
    "#list of untagged  words\n",
    "valid_tagged_words = [tup[0] for sent in valid_run for tup in sent]"
   ]
  },
  {
   "cell_type": "code",
   "execution_count": 25,
   "metadata": {},
   "outputs": [],
   "source": [
    "#tagging the test sentences\n",
    "start = time.time()\n",
    "tagged_seq_vanilla_viterbi = viterbi(valid_tagged_words)\n",
    "end = time.time()"
   ]
  },
  {
   "cell_type": "code",
   "execution_count": 26,
   "metadata": {},
   "outputs": [],
   "source": [
    "difference = end-start"
   ]
  },
  {
   "cell_type": "code",
   "execution_count": 27,
   "metadata": {},
   "outputs": [
    {
     "name": "stdout",
     "output_type": "stream",
     "text": [
      "Time taken in seconds:  47.732940435409546\n",
      "[('The', 'DET'), ('1987', 'NUM'), ('statute', 'NOUN'), ('0', 'X'), ('Mrs.', 'NOUN'), ('Yeargin', 'NOUN'), ('violated', 'VERB'), ('*T*-1', 'X'), ('was', 'VERB'), ('designed', 'VERB'), ('*-2', 'X'), ('*-3', 'X'), ('to', 'PRT'), ('enforce', 'VERB'), ('provisions', 'NOUN'), ('of', 'ADP'), ('South', 'NOUN'), ('Carolina', 'NOUN'), (\"'s\", 'PRT'), ('school-improvement', 'DET'), ('laws', 'NOUN'), ('.', '.'), ('The', 'DET'), ('Big', 'NOUN'), ('Board', 'NOUN'), (\"'s\", 'PRT'), ('directors', 'NOUN'), ('meet', 'VERB'), ('today', 'NOUN'), ('*-1', 'X'), ('to', 'PRT'), ('approve', 'VERB'), ('some', 'DET'), ('program-trading', 'ADJ'), ('restrictions', 'NOUN'), (',', '.'), ('but', 'CONJ'), ('a', 'DET'), ('total', 'ADJ'), ('ban', 'NOUN'), ('is', 'VERB'), (\"n't\", 'ADV'), ('being', 'VERB'), ('considered', 'VERB'), ('*-77', 'DET'), (',', '.'), ('Big', 'NOUN'), ('Board', 'NOUN'), ('officials', 'NOUN'), ('say', 'VERB'), ('0', 'X'), ('*T*-2', 'X'), ('.', '.'), ('A', 'DET'), ('reinstatement', 'NOUN'), ('of', 'ADP'), ('the', 'DET'), ('uptick', 'NOUN'), ('rule', 'NOUN'), ('for', 'ADP'), ('program', 'NOUN'), ('traders', 'NOUN'), ('would', 'VERB'), ('slow', 'VERB'), ('their', 'PRON'), ('activity', 'NOUN'), ('considerably', 'ADV'), ('.', '.'), ('While', 'ADP'), ('it', 'PRON'), ('breaks', 'VERB'), ('down', 'ADV'), ('in', 'ADP'), ('prolonged', 'VERB'), ('sunlight', 'DET'), (',', '.'), ('it', 'PRON'), ('is', 'VERB'), (\"n't\", 'ADV'), ('recyclable', 'DET'), ('.', '.'), ('The', 'DET'), ('Baker', 'DET'), ('proposal', 'NOUN'), ('reasserts', 'DET'), ('Washington', 'NOUN'), (\"'s\", 'PRT'), ('intention', 'NOUN'), ('*', 'X'), ('to', 'PRT'), ('continue', 'VERB'), ('*-1', 'X'), ('playing', 'VERB'), ('a', 'DET'), ('leading', 'ADJ'), ('political', 'ADJ'), ('role', 'NOUN'), ('in', 'ADP'), ('the', 'DET'), ('region', 'NOUN'), ('.', '.'), ('In', 'ADP'), ('recent', 'ADJ'), ('months', 'NOUN'), (',', '.'), ('Mr.', 'NOUN'), ('Dorrance', 'NOUN'), (\"'s\", 'PRT'), ('children', 'NOUN'), ('and', 'CONJ'), ('other', 'ADJ'), ('family', 'NOUN'), ('members', 'NOUN'), ('have', 'VERB'), ('pushed', 'VERB'), ('for', 'ADP'), ('improved', 'VERB'), ('profitability', 'NOUN'), ('and', 'CONJ'), ('higher', 'ADJ'), ('returns', 'NOUN'), ('on', 'ADP'), ('their', 'PRON'), ('equity', 'NOUN'), ('.', '.'), ('But', 'CONJ'), ('the', 'DET'), ('heated', 'ADJ'), ('fight', 'NOUN'), ('over', 'ADP'), ('program', 'NOUN'), ('trading', 'NOUN'), ('is', 'VERB'), ('about', 'ADP'), ('much', 'ADJ'), ('more', 'ADJ'), ('than', 'ADP'), ('a', 'DET'), ('volatile', 'ADJ'), ('stock', 'NOUN'), ('market', 'NOUN'), ('.', '.'), ('*-1', 'X'), ('Left', 'DET'), ('*-3', 'X'), ('to', 'PRT'), ('its', 'PRON'), ('own', 'ADJ'), ('devices', 'NOUN'), (',', '.'), ('index', 'NOUN'), ('arbitrage', 'NOUN'), ('will', 'VERB'), ('become', 'VERB'), ('more', 'ADV'), ('and', 'CONJ'), ('more', 'ADJ'), ('efficient', 'ADJ'), (',', '.'), ('*-1', 'X'), ('making', 'VERB'), ('it', 'PRON'), ('harder', 'ADJ'), ('and', 'CONJ'), ('harder', 'ADJ'), ('0', 'X'), ('*', 'X'), ('to', 'PRT'), ('do', 'VERB'), ('*T*-2', 'X'), ('profitably', 'ADV'), ('.', '.'), ('Also', 'ADV'), (',', '.'), ('Mr.', 'NOUN'), ('Vargas', 'NOUN'), ('was', 'VERB'), ('barred', 'VERB'), ('*-152', 'DET'), ('from', 'ADP'), ('association', 'NOUN'), ('with', 'ADP'), ('any', 'DET'), ('NASD', 'NOUN'), ('member', 'NOUN'), ('.', '.'), ('At', 'ADP'), ('the', 'DET'), ('same', 'ADJ'), ('time', 'NOUN'), (',', '.'), ('he', 'PRON'), ('began', 'VERB'), ('*-1', 'X'), ('building', 'VERB'), ('up', 'ADV'), ('the', 'DET'), ('pulp', 'NOUN'), ('and', 'CONJ'), ('paper', 'NOUN'), ('segment', 'NOUN'), ('of', 'ADP'), ('the', 'DET'), ('company', 'NOUN'), ('while', 'ADP'), ('*-1', 'X'), ('refocusing', 'DET'), ('building', 'NOUN'), ('products', 'NOUN'), ('on', 'ADP'), ('home', 'NOUN'), ('repair', 'NOUN'), ('and', 'CONJ'), ('remodeling', 'DET'), (',', '.'), ('rather', 'ADV'), ('than', 'ADP'), ('materials', 'NOUN'), ('for', 'ADP'), ('new-home', 'ADJ'), ('construction', 'NOUN'), ('.', '.')]\n"
     ]
    }
   ],
   "source": [
    "print(\"Time taken in seconds: \",difference)\n",
    "print(tagged_seq_vanilla_viterbi)"
   ]
  },
  {
   "cell_type": "code",
   "execution_count": 28,
   "metadata": {},
   "outputs": [],
   "source": [
    "#checking the accuracy\n",
    "check_vanilla_viterbi = [i for i, j in zip(tagged_seq_vanilla_viterbi, valid_base) if i == j]"
   ]
  },
  {
   "cell_type": "code",
   "execution_count": 29,
   "metadata": {},
   "outputs": [],
   "source": [
    "accuracy_vanilla_viterbi = len(check_vanilla_viterbi) / len(tagged_seq_vanilla_viterbi)"
   ]
  },
  {
   "cell_type": "code",
   "execution_count": 30,
   "metadata": {},
   "outputs": [
    {
     "name": "stdout",
     "output_type": "stream",
     "text": [
      "Accuracy on the Validation Set with Vanilla Viterbi Model is:  0.9234234234234234\n"
     ]
    }
   ],
   "source": [
    "#printing accuracy\n",
    "print(\"Accuracy on the Validation Set with Vanilla Viterbi Model is: \", accuracy_vanilla_viterbi)"
   ]
  },
  {
   "cell_type": "code",
   "execution_count": 31,
   "metadata": {},
   "outputs": [],
   "source": [
    "#lets find the incorrect tagged cases\n",
    "incorrect_tagged_cases = [[valid_base[i-1], j] for i, j in enumerate(zip(tagged_seq_vanilla_viterbi, valid_base)) if j[0] != j[1]]"
   ]
  },
  {
   "cell_type": "code",
   "execution_count": 32,
   "metadata": {},
   "outputs": [
    {
     "data": {
      "text/plain": [
       "[[(\"'s\", 'PRT'),\n",
       "  (('school-improvement', 'DET'), ('school-improvement', 'ADJ'))],\n",
       " [('considered', 'VERB'), (('*-77', 'DET'), ('*-77', 'X'))],\n",
       " [('breaks', 'VERB'), (('down', 'ADV'), ('down', 'PRT'))],\n",
       " [('prolonged', 'VERB'), (('sunlight', 'DET'), ('sunlight', 'NOUN'))],\n",
       " [(\"n't\", 'ADV'), (('recyclable', 'DET'), ('recyclable', 'ADJ'))],\n",
       " [('The', 'DET'), (('Baker', 'DET'), ('Baker', 'NOUN'))],\n",
       " [('proposal', 'NOUN'), (('reasserts', 'DET'), ('reasserts', 'VERB'))],\n",
       " [('a', 'DET'), (('leading', 'ADJ'), ('leading', 'VERB'))],\n",
       " [('the', 'DET'), (('heated', 'ADJ'), ('heated', 'VERB'))],\n",
       " [('about', 'ADP'), (('much', 'ADJ'), ('much', 'ADV'))],\n",
       " [('*-1', 'X'), (('Left', 'DET'), ('Left', 'VERB'))],\n",
       " [('and', 'CONJ'), (('more', 'ADJ'), ('more', 'ADV'))],\n",
       " [('barred', 'VERB'), (('*-152', 'DET'), ('*-152', 'X'))],\n",
       " [('building', 'VERB'), (('up', 'ADV'), ('up', 'PRT'))],\n",
       " [('company', 'NOUN'), (('while', 'ADP'), ('while', 'NOUN'))],\n",
       " [('*-1', 'X'), (('refocusing', 'DET'), ('refocusing', 'NOUN'))],\n",
       " [('and', 'CONJ'), (('remodeling', 'DET'), ('remodeling', 'NOUN'))]]"
      ]
     },
     "execution_count": 32,
     "metadata": {},
     "output_type": "execute_result"
    }
   ],
   "source": [
    "incorrect_tagged_cases"
   ]
  },
  {
   "cell_type": "code",
   "execution_count": 33,
   "metadata": {},
   "outputs": [
    {
     "name": "stdout",
     "output_type": "stream",
     "text": [
      "Total Incorrect Tagged Cases:  17\n"
     ]
    }
   ],
   "source": [
    "#totaol incorrect tagged cases\n",
    "print(\"Total Incorrect Tagged Cases: \", len(incorrect_tagged_cases))"
   ]
  },
  {
   "cell_type": "code",
   "execution_count": 34,
   "metadata": {},
   "outputs": [
    {
     "name": "stdout",
     "output_type": "stream",
     "text": [
      "Total Unknown Words:  10\n",
      "Unkown Words:  ['Baker', 'refocusing', 'Left', '*-152', 'remodeling', 'sunlight', '*-77', 'recyclable', 'reasserts', 'school-improvement']\n"
     ]
    }
   ],
   "source": [
    "#lets find the unknown words from our valid_set\n",
    "valid_vocabulary_set = set([t for t in valid_tagged_words])\n",
    "\n",
    "unknown_words = list(valid_vocabulary_set - V)\n",
    "print(\"Total Unknown Words: \", len(unknown_words))\n",
    "print(\"Unkown Words: \", unknown_words)"
   ]
  },
  {
   "cell_type": "markdown",
   "metadata": {},
   "source": [
    "### 4. Viterbi Modification Technique - 1"
   ]
  },
  {
   "cell_type": "code",
   "execution_count": 35,
   "metadata": {},
   "outputs": [],
   "source": [
    "#using transistion probability when emission probability is zero\n",
    "\n",
    "def viterbi_modification_1(words, train_bag = train_tagged_words):\n",
    "    state = []\n",
    "    T = list(set([pair[1] for pair in train_bag]))\n",
    "    \n",
    "    for key, word in enumerate(words):\n",
    "        #initialize the list of probability column for a given observation\n",
    "        p = []\n",
    "        p_transition = [] #list for storing transition probability\n",
    "        for tag in T:\n",
    "            if key == 0:\n",
    "                transition_p = tags_df.loc['.', tag]\n",
    "            else:\n",
    "                transition_p = tags_df.loc[state[-1], tag]\n",
    "                \n",
    "            #computing the emission and state probability\n",
    "            emission_p = word_given_tag(words[key], tag)[0]/word_given_tag(words[key], tag)[1]\n",
    "            state_probability = emission_p * transition_p\n",
    "            p.append(state_probability)\n",
    "            p_transition.append(transition_p)\n",
    "            \n",
    "        pmax = max(p)\n",
    "        #getting the state for which the probability is maximum\n",
    "        state_max = T[p.index(pmax)]\n",
    "        \n",
    "        #if the probability is zero, then use the transition probability\n",
    "        if(pmax == 0):\n",
    "            pmax = max(p_transition)\n",
    "            state_max = T[p_transition.index(pmax)]\n",
    "            \n",
    "        else:\n",
    "            state_max = T[p.index(pmax)]\n",
    "            \n",
    "        state.append(state_max)\n",
    "    \n",
    "    return list(zip(words, state))"
   ]
  },
  {
   "cell_type": "markdown",
   "metadata": {},
   "source": [
    "**Evaluation Again of the Validation Set**"
   ]
  },
  {
   "cell_type": "code",
   "execution_count": 36,
   "metadata": {},
   "outputs": [],
   "source": [
    "#tagging the test sentences\n",
    "start = time.time()\n",
    "tagged_seq_mod_1 = viterbi_modification_1(valid_tagged_words)\n",
    "end = time.time()"
   ]
  },
  {
   "cell_type": "code",
   "execution_count": 37,
   "metadata": {},
   "outputs": [],
   "source": [
    "difference = end-start"
   ]
  },
  {
   "cell_type": "code",
   "execution_count": 38,
   "metadata": {},
   "outputs": [
    {
     "name": "stdout",
     "output_type": "stream",
     "text": [
      "Time Taken in Seconds :  47.808629751205444\n",
      "[('The', 'DET'), ('1987', 'NUM'), ('statute', 'NOUN'), ('0', 'X'), ('Mrs.', 'NOUN'), ('Yeargin', 'NOUN'), ('violated', 'VERB'), ('*T*-1', 'X'), ('was', 'VERB'), ('designed', 'VERB'), ('*-2', 'X'), ('*-3', 'X'), ('to', 'PRT'), ('enforce', 'VERB'), ('provisions', 'NOUN'), ('of', 'ADP'), ('South', 'NOUN'), ('Carolina', 'NOUN'), (\"'s\", 'PRT'), ('school-improvement', 'VERB'), ('laws', 'NOUN'), ('.', '.'), ('The', 'DET'), ('Big', 'NOUN'), ('Board', 'NOUN'), (\"'s\", 'PRT'), ('directors', 'NOUN'), ('meet', 'VERB'), ('today', 'NOUN'), ('*-1', 'X'), ('to', 'PRT'), ('approve', 'VERB'), ('some', 'DET'), ('program-trading', 'ADJ'), ('restrictions', 'NOUN'), (',', '.'), ('but', 'CONJ'), ('a', 'DET'), ('total', 'ADJ'), ('ban', 'NOUN'), ('is', 'VERB'), (\"n't\", 'ADV'), ('being', 'VERB'), ('considered', 'VERB'), ('*-77', 'X'), (',', '.'), ('Big', 'NOUN'), ('Board', 'NOUN'), ('officials', 'NOUN'), ('say', 'VERB'), ('0', 'X'), ('*T*-2', 'X'), ('.', '.'), ('A', 'DET'), ('reinstatement', 'NOUN'), ('of', 'ADP'), ('the', 'DET'), ('uptick', 'NOUN'), ('rule', 'NOUN'), ('for', 'ADP'), ('program', 'NOUN'), ('traders', 'NOUN'), ('would', 'VERB'), ('slow', 'VERB'), ('their', 'PRON'), ('activity', 'NOUN'), ('considerably', 'ADV'), ('.', '.'), ('While', 'ADP'), ('it', 'PRON'), ('breaks', 'VERB'), ('down', 'ADV'), ('in', 'ADP'), ('prolonged', 'VERB'), ('sunlight', 'X'), (',', '.'), ('it', 'PRON'), ('is', 'VERB'), (\"n't\", 'ADV'), ('recyclable', 'VERB'), ('.', '.'), ('The', 'DET'), ('Baker', 'NOUN'), ('proposal', 'NOUN'), ('reasserts', 'NOUN'), ('Washington', 'NOUN'), (\"'s\", 'PRT'), ('intention', 'NOUN'), ('*', 'X'), ('to', 'PRT'), ('continue', 'VERB'), ('*-1', 'X'), ('playing', 'VERB'), ('a', 'DET'), ('leading', 'ADJ'), ('political', 'ADJ'), ('role', 'NOUN'), ('in', 'ADP'), ('the', 'DET'), ('region', 'NOUN'), ('.', '.'), ('In', 'ADP'), ('recent', 'ADJ'), ('months', 'NOUN'), (',', '.'), ('Mr.', 'NOUN'), ('Dorrance', 'NOUN'), (\"'s\", 'PRT'), ('children', 'NOUN'), ('and', 'CONJ'), ('other', 'ADJ'), ('family', 'NOUN'), ('members', 'NOUN'), ('have', 'VERB'), ('pushed', 'VERB'), ('for', 'ADP'), ('improved', 'VERB'), ('profitability', 'NOUN'), ('and', 'CONJ'), ('higher', 'ADJ'), ('returns', 'NOUN'), ('on', 'ADP'), ('their', 'PRON'), ('equity', 'NOUN'), ('.', '.'), ('But', 'CONJ'), ('the', 'DET'), ('heated', 'ADJ'), ('fight', 'NOUN'), ('over', 'ADP'), ('program', 'NOUN'), ('trading', 'NOUN'), ('is', 'VERB'), ('about', 'ADP'), ('much', 'ADJ'), ('more', 'ADJ'), ('than', 'ADP'), ('a', 'DET'), ('volatile', 'ADJ'), ('stock', 'NOUN'), ('market', 'NOUN'), ('.', '.'), ('*-1', 'X'), ('Left', 'VERB'), ('*-3', 'X'), ('to', 'PRT'), ('its', 'PRON'), ('own', 'ADJ'), ('devices', 'NOUN'), (',', '.'), ('index', 'NOUN'), ('arbitrage', 'NOUN'), ('will', 'VERB'), ('become', 'VERB'), ('more', 'ADV'), ('and', 'CONJ'), ('more', 'ADJ'), ('efficient', 'ADJ'), (',', '.'), ('*-1', 'X'), ('making', 'VERB'), ('it', 'PRON'), ('harder', 'ADJ'), ('and', 'CONJ'), ('harder', 'ADJ'), ('0', 'X'), ('*', 'X'), ('to', 'PRT'), ('do', 'VERB'), ('*T*-2', 'X'), ('profitably', 'ADV'), ('.', '.'), ('Also', 'ADV'), (',', '.'), ('Mr.', 'NOUN'), ('Vargas', 'NOUN'), ('was', 'VERB'), ('barred', 'VERB'), ('*-152', 'X'), ('from', 'ADP'), ('association', 'NOUN'), ('with', 'ADP'), ('any', 'DET'), ('NASD', 'NOUN'), ('member', 'NOUN'), ('.', '.'), ('At', 'ADP'), ('the', 'DET'), ('same', 'ADJ'), ('time', 'NOUN'), (',', '.'), ('he', 'PRON'), ('began', 'VERB'), ('*-1', 'X'), ('building', 'VERB'), ('up', 'ADV'), ('the', 'DET'), ('pulp', 'NOUN'), ('and', 'CONJ'), ('paper', 'NOUN'), ('segment', 'NOUN'), ('of', 'ADP'), ('the', 'DET'), ('company', 'NOUN'), ('while', 'ADP'), ('*-1', 'X'), ('refocusing', 'VERB'), ('building', 'VERB'), ('products', 'NOUN'), ('on', 'ADP'), ('home', 'NOUN'), ('repair', 'NOUN'), ('and', 'CONJ'), ('remodeling', 'NOUN'), (',', '.'), ('rather', 'ADV'), ('than', 'ADP'), ('materials', 'NOUN'), ('for', 'ADP'), ('new-home', 'ADJ'), ('construction', 'NOUN'), ('.', '.')]\n"
     ]
    }
   ],
   "source": [
    "print(\"Time Taken in Seconds : \", difference)\n",
    "print(tagged_seq_mod_1)"
   ]
  },
  {
   "cell_type": "code",
   "execution_count": 39,
   "metadata": {},
   "outputs": [],
   "source": [
    "#checking the accuracy\n",
    "check_mod_1 = [i for i, j in zip(tagged_seq_mod_1, valid_base) if i == j]"
   ]
  },
  {
   "cell_type": "code",
   "execution_count": 40,
   "metadata": {},
   "outputs": [],
   "source": [
    "accuracy_mod_1 = len(check_mod_1) / len(tagged_seq_mod_1)"
   ]
  },
  {
   "cell_type": "code",
   "execution_count": 41,
   "metadata": {},
   "outputs": [
    {
     "name": "stdout",
     "output_type": "stream",
     "text": [
      "Accuracy on the Validation Set of the Modified Viterbi Model is:  0.9414414414414415\n"
     ]
    }
   ],
   "source": [
    "#printing accuracy\n",
    "print(\"Accuracy on the Validation Set of the Modified Viterbi Model is: \", accuracy_mod_1)"
   ]
  },
  {
   "cell_type": "markdown",
   "metadata": {},
   "source": [
    "### 5. Viterbi Modification Technique - 2"
   ]
  },
  {
   "cell_type": "code",
   "execution_count": 42,
   "metadata": {},
   "outputs": [],
   "source": [
    "#lets create a biigram tagger backed by a rule based tagger\n",
    "\n",
    "def bigram_tagger(word, train_set = train_set):\n",
    "    \n",
    "    patterns = [\n",
    "        (r'[aA-zZ]+(ed|ing|es)$', 'VERB'), #any word ending with ing, ed and es is a verb\n",
    "        (r'.*ly$','ADV'), #any word ending with ly, we have categorized them as a adverb\n",
    "        (r'.*(able|ful|ous)$','ADJ'), # words ending with able, ful and ous are adjectives according to our rule.\n",
    "        (r'(The|the|A|a|An|an|This|this|That|that|These|these|Those|those)$','DET'),\n",
    "        (r'.*es$','NOUN'),\n",
    "        (r'.*s$','NOUN'),\n",
    "        (r'.*\\'s$','NOUN'),\n",
    "        (r'.*(ould|ll|)$','X'), # assigning the modal verbs to X\n",
    "        (r'[0-9].?[,\\/]?[0-9]*','NUM'), # Numbers\n",
    "        (r'.*','NOUN'),\n",
    "        (r'.*ment$','NOUN')  \n",
    "    ]\n",
    "    \n",
    "    regex_tagger = nltk.RegexpTagger(patterns)\n",
    "    \n",
    "    #trigram backed by regex_tagger\n",
    "    unigram_regex_tagger = nltk.UnigramTagger(train_set, backoff = regex_tagger)\n",
    "    bigram_uni_tagger  = nltk.BigramTagger(train_set, backoff = unigram_regex_tagger)\n",
    "    return bigram_uni_tagger.tag_sents([[(word)]])\n",
    "    "
   ]
  },
  {
   "cell_type": "code",
   "execution_count": 43,
   "metadata": {},
   "outputs": [],
   "source": [
    "#viterbi with handling unknown words using regex tagger\n",
    "\n",
    "def viterbi_modification_2(words, train_bag = train_tagged_words):\n",
    "    state = []\n",
    "    T = list(set([pair[1] for pair in train_bag]))\n",
    "    \n",
    "    for key, word in enumerate(words):\n",
    "        #unknown words from our trigram tagger\n",
    "        if word not in V:\n",
    "            unknown_word = bigram_tagger(word)\n",
    "            for sent in unknown_word:\n",
    "                for tup in sent:\n",
    "                    state.append(tup[1])\n",
    "        else: # the rest of the code remains same\n",
    "            p = []\n",
    "            for tag in T:\n",
    "                if key == 0:\n",
    "                    transition_p = tags_df.loc['.', tag]\n",
    "                else:\n",
    "                    transition_p = tags_df.loc[state[-1], tag]\n",
    "            \n",
    "                #computing the emission and state probabilites\n",
    "                emission_p = word_given_tag(words[key], tag)[0] / word_given_tag(words[key], tag)[1]\n",
    "                state_probability = emission_p * transition_p\n",
    "                p.append(state_probability)\n",
    "        \n",
    "            pmax = max(p)\n",
    "            #getting state for which probability is maximum\n",
    "            state_max = T[p.index(pmax)]\n",
    "            state.append(state_max)\n",
    "    return list(zip(words, state))           "
   ]
  },
  {
   "cell_type": "markdown",
   "metadata": {},
   "source": [
    "**Evaluation again on the validation set**"
   ]
  },
  {
   "cell_type": "code",
   "execution_count": 44,
   "metadata": {},
   "outputs": [],
   "source": [
    "#tagging the test sentences\n",
    "start = time.time()\n",
    "tagged_seq_mod_2 = viterbi_modification_2(valid_tagged_words)\n",
    "end = time.time()"
   ]
  },
  {
   "cell_type": "code",
   "execution_count": 45,
   "metadata": {},
   "outputs": [],
   "source": [
    "difference = end-start"
   ]
  },
  {
   "cell_type": "code",
   "execution_count": 46,
   "metadata": {},
   "outputs": [
    {
     "name": "stdout",
     "output_type": "stream",
     "text": [
      "Time Taken in Seconds :  61.99542570114136\n",
      "[('The', 'DET'), ('1987', 'NUM'), ('statute', 'NOUN'), ('0', 'X'), ('Mrs.', 'NOUN'), ('Yeargin', 'NOUN'), ('violated', 'VERB'), ('*T*-1', 'X'), ('was', 'VERB'), ('designed', 'VERB'), ('*-2', 'X'), ('*-3', 'X'), ('to', 'PRT'), ('enforce', 'VERB'), ('provisions', 'NOUN'), ('of', 'ADP'), ('South', 'NOUN'), ('Carolina', 'NOUN'), (\"'s\", 'PRT'), ('school-improvement', 'X'), ('laws', 'NOUN'), ('.', '.'), ('The', 'DET'), ('Big', 'NOUN'), ('Board', 'NOUN'), (\"'s\", 'PRT'), ('directors', 'NOUN'), ('meet', 'VERB'), ('today', 'NOUN'), ('*-1', 'X'), ('to', 'PRT'), ('approve', 'VERB'), ('some', 'DET'), ('program-trading', 'ADJ'), ('restrictions', 'NOUN'), (',', '.'), ('but', 'CONJ'), ('a', 'DET'), ('total', 'ADJ'), ('ban', 'NOUN'), ('is', 'VERB'), (\"n't\", 'ADV'), ('being', 'VERB'), ('considered', 'VERB'), ('*-77', 'X'), (',', '.'), ('Big', 'NOUN'), ('Board', 'NOUN'), ('officials', 'NOUN'), ('say', 'VERB'), ('0', 'X'), ('*T*-2', 'X'), ('.', '.'), ('A', 'DET'), ('reinstatement', 'NOUN'), ('of', 'ADP'), ('the', 'DET'), ('uptick', 'NOUN'), ('rule', 'NOUN'), ('for', 'ADP'), ('program', 'NOUN'), ('traders', 'NOUN'), ('would', 'VERB'), ('slow', 'VERB'), ('their', 'PRON'), ('activity', 'NOUN'), ('considerably', 'ADV'), ('.', '.'), ('While', 'ADP'), ('it', 'PRON'), ('breaks', 'VERB'), ('down', 'ADV'), ('in', 'ADP'), ('prolonged', 'VERB'), ('sunlight', 'X'), (',', '.'), ('it', 'PRON'), ('is', 'VERB'), (\"n't\", 'ADV'), ('recyclable', 'ADJ'), ('.', '.'), ('The', 'DET'), ('Baker', 'X'), ('proposal', 'NOUN'), ('reasserts', 'NOUN'), ('Washington', 'NOUN'), (\"'s\", 'PRT'), ('intention', 'NOUN'), ('*', 'X'), ('to', 'PRT'), ('continue', 'VERB'), ('*-1', 'X'), ('playing', 'VERB'), ('a', 'DET'), ('leading', 'ADJ'), ('political', 'ADJ'), ('role', 'NOUN'), ('in', 'ADP'), ('the', 'DET'), ('region', 'NOUN'), ('.', '.'), ('In', 'ADP'), ('recent', 'ADJ'), ('months', 'NOUN'), (',', '.'), ('Mr.', 'NOUN'), ('Dorrance', 'NOUN'), (\"'s\", 'PRT'), ('children', 'NOUN'), ('and', 'CONJ'), ('other', 'ADJ'), ('family', 'NOUN'), ('members', 'NOUN'), ('have', 'VERB'), ('pushed', 'VERB'), ('for', 'ADP'), ('improved', 'VERB'), ('profitability', 'NOUN'), ('and', 'CONJ'), ('higher', 'ADJ'), ('returns', 'NOUN'), ('on', 'ADP'), ('their', 'PRON'), ('equity', 'NOUN'), ('.', '.'), ('But', 'CONJ'), ('the', 'DET'), ('heated', 'ADJ'), ('fight', 'NOUN'), ('over', 'ADP'), ('program', 'NOUN'), ('trading', 'NOUN'), ('is', 'VERB'), ('about', 'ADP'), ('much', 'ADJ'), ('more', 'ADJ'), ('than', 'ADP'), ('a', 'DET'), ('volatile', 'ADJ'), ('stock', 'NOUN'), ('market', 'NOUN'), ('.', '.'), ('*-1', 'X'), ('Left', 'X'), ('*-3', 'X'), ('to', 'PRT'), ('its', 'PRON'), ('own', 'ADJ'), ('devices', 'NOUN'), (',', '.'), ('index', 'NOUN'), ('arbitrage', 'NOUN'), ('will', 'VERB'), ('become', 'VERB'), ('more', 'ADV'), ('and', 'CONJ'), ('more', 'ADJ'), ('efficient', 'ADJ'), (',', '.'), ('*-1', 'X'), ('making', 'VERB'), ('it', 'PRON'), ('harder', 'ADJ'), ('and', 'CONJ'), ('harder', 'ADJ'), ('0', 'X'), ('*', 'X'), ('to', 'PRT'), ('do', 'VERB'), ('*T*-2', 'X'), ('profitably', 'ADV'), ('.', '.'), ('Also', 'ADV'), (',', '.'), ('Mr.', 'NOUN'), ('Vargas', 'NOUN'), ('was', 'VERB'), ('barred', 'VERB'), ('*-152', 'X'), ('from', 'ADP'), ('association', 'NOUN'), ('with', 'ADP'), ('any', 'DET'), ('NASD', 'NOUN'), ('member', 'NOUN'), ('.', '.'), ('At', 'ADP'), ('the', 'DET'), ('same', 'ADJ'), ('time', 'NOUN'), (',', '.'), ('he', 'PRON'), ('began', 'VERB'), ('*-1', 'X'), ('building', 'VERB'), ('up', 'ADV'), ('the', 'DET'), ('pulp', 'NOUN'), ('and', 'CONJ'), ('paper', 'NOUN'), ('segment', 'NOUN'), ('of', 'ADP'), ('the', 'DET'), ('company', 'NOUN'), ('while', 'ADP'), ('*-1', 'X'), ('refocusing', 'VERB'), ('building', 'VERB'), ('products', 'NOUN'), ('on', 'ADP'), ('home', 'NOUN'), ('repair', 'NOUN'), ('and', 'CONJ'), ('remodeling', 'VERB'), (',', '.'), ('rather', 'ADV'), ('than', 'ADP'), ('materials', 'NOUN'), ('for', 'ADP'), ('new-home', 'ADJ'), ('construction', 'NOUN'), ('.', '.')]\n"
     ]
    }
   ],
   "source": [
    "print(\"Time Taken in Seconds : \", difference)\n",
    "print(tagged_seq_mod_2)"
   ]
  },
  {
   "cell_type": "code",
   "execution_count": 47,
   "metadata": {},
   "outputs": [],
   "source": [
    "#checking the accuracy\n",
    "check_mod_2 = [i for i, j in zip(tagged_seq_mod_2, valid_base) if i == j]"
   ]
  },
  {
   "cell_type": "code",
   "execution_count": 48,
   "metadata": {},
   "outputs": [],
   "source": [
    "accuracy_mod_2 = len(check_mod_2) / len(tagged_seq_mod_2)"
   ]
  },
  {
   "cell_type": "code",
   "execution_count": 49,
   "metadata": {},
   "outputs": [
    {
     "name": "stdout",
     "output_type": "stream",
     "text": [
      "Accuracy on the Validation Set of the Viterbi + Bigram Tagger Model is:  0.9324324324324325\n"
     ]
    }
   ],
   "source": [
    "#printing accuracy\n",
    "print(\"Accuracy on the Validation Set of the Viterbi + Bigram Tagger Model is: \", accuracy_mod_2)"
   ]
  },
  {
   "cell_type": "code",
   "execution_count": 50,
   "metadata": {},
   "outputs": [
    {
     "data": {
      "text/html": [
       "<div>\n",
       "<style scoped>\n",
       "    .dataframe tbody tr th:only-of-type {\n",
       "        vertical-align: middle;\n",
       "    }\n",
       "\n",
       "    .dataframe tbody tr th {\n",
       "        vertical-align: top;\n",
       "    }\n",
       "\n",
       "    .dataframe thead th {\n",
       "        text-align: right;\n",
       "    }\n",
       "</style>\n",
       "<table border=\"1\" class=\"dataframe\">\n",
       "  <thead>\n",
       "    <tr style=\"text-align: right;\">\n",
       "      <th></th>\n",
       "      <th>Model</th>\n",
       "      <th>Accuracy</th>\n",
       "    </tr>\n",
       "  </thead>\n",
       "  <tbody>\n",
       "    <tr>\n",
       "      <th>0</th>\n",
       "      <td>Vanilla Viterbi</td>\n",
       "      <td>0.923423</td>\n",
       "    </tr>\n",
       "    <tr>\n",
       "      <th>1</th>\n",
       "      <td>Modified Vanilla Viterbi</td>\n",
       "      <td>0.941441</td>\n",
       "    </tr>\n",
       "    <tr>\n",
       "      <th>2</th>\n",
       "      <td>Viterbi + Rule Based + Bi Gram</td>\n",
       "      <td>0.932432</td>\n",
       "    </tr>\n",
       "  </tbody>\n",
       "</table>\n",
       "</div>"
      ],
      "text/plain": [
       "                            Model  Accuracy\n",
       "0                 Vanilla Viterbi  0.923423\n",
       "1        Modified Vanilla Viterbi  0.941441\n",
       "2  Viterbi + Rule Based + Bi Gram  0.932432"
      ]
     },
     "execution_count": 50,
     "metadata": {},
     "output_type": "execute_result"
    }
   ],
   "source": [
    "#Accuracy of differnt models\n",
    "pd.DataFrame({'Model' : ['Vanilla Viterbi', 'Modified Vanilla Viterbi', 'Viterbi + Rule Based + Bi Gram'],\n",
    "              'Accuracy':[accuracy_vanilla_viterbi, accuracy_mod_1, accuracy_mod_2]})"
   ]
  },
  {
   "cell_type": "markdown",
   "metadata": {},
   "source": [
    "From the above we could notice that the Modified Vanilla Viterbi gave us the best accuracy."
   ]
  },
  {
   "cell_type": "markdown",
   "metadata": {},
   "source": [
    "### 6. Evaluating the Models on the provided Test Sentences"
   ]
  },
  {
   "cell_type": "code",
   "execution_count": 51,
   "metadata": {},
   "outputs": [],
   "source": [
    "#running the above models on the test data set\n",
    "def test(file):\n",
    "    test_sent = open(file, \"r\")\n",
    "    test_set = test_sent.read()\n",
    "    test_sent.close()\n",
    "    \n",
    "    #tokenizing the test set\n",
    "    sentences = sent_tokenize(test_set)\n",
    "    for i in range (len(sentences)):\n",
    "        words = word_tokenize(sentences[i])\n",
    "        print(\"\\nSentence \" + str(i+1) + \" is:\", sentences[i])\n",
    "        print(\"\\nVanilla Viterbi on Sentence \" + str(i+1) + \" is:\", viterbi(words))\n",
    "        print(\"\\nModified Vanilla Viterbi on Sentence \" + str(i+1) + \" is:\", viterbi_modification_1(words))\n",
    "        print(\"\\nViterbi + Rule Based + Bi Gram Tagger on Sentence \" + str(i+1) + \" is:\", viterbi_modification_2(words))\n",
    "        print(\"\\n********************************************************************************************************\")"
   ]
  },
  {
   "cell_type": "code",
   "execution_count": 52,
   "metadata": {},
   "outputs": [
    {
     "name": "stdout",
     "output_type": "stream",
     "text": [
      "\n",
      "Sentence 1 is: Android is a mobile operating system developed by Google.\n",
      "\n",
      "Vanilla Viterbi on Sentence 1 is: [('Android', 'DET'), ('is', 'VERB'), ('a', 'DET'), ('mobile', 'ADJ'), ('operating', 'NOUN'), ('system', 'NOUN'), ('developed', 'VERB'), ('by', 'ADP'), ('Google', 'DET'), ('.', '.')]\n",
      "\n",
      "Modified Vanilla Viterbi on Sentence 1 is: [('Android', 'NOUN'), ('is', 'VERB'), ('a', 'DET'), ('mobile', 'ADJ'), ('operating', 'NOUN'), ('system', 'NOUN'), ('developed', 'VERB'), ('by', 'ADP'), ('Google', 'DET'), ('.', '.')]\n",
      "\n",
      "Viterbi + Rule Based + Bi Gram Tagger on Sentence 1 is: [('Android', 'X'), ('is', 'VERB'), ('a', 'DET'), ('mobile', 'ADJ'), ('operating', 'NOUN'), ('system', 'NOUN'), ('developed', 'VERB'), ('by', 'ADP'), ('Google', 'X'), ('.', '.')]\n",
      "\n",
      "********************************************************************************************************\n",
      "\n",
      "Sentence 2 is: Android has been the best-selling OS worldwide on smartphones since 2011 and on tablets since 2013.\n",
      "\n",
      "Vanilla Viterbi on Sentence 2 is: [('Android', 'DET'), ('has', 'VERB'), ('been', 'VERB'), ('the', 'DET'), ('best-selling', 'ADJ'), ('OS', 'DET'), ('worldwide', 'DET'), ('on', 'ADP'), ('smartphones', 'DET'), ('since', 'ADP'), ('2011', 'DET'), ('and', 'CONJ'), ('on', 'ADP'), ('tablets', 'NOUN'), ('since', 'ADP'), ('2013', 'DET'), ('.', '.')]\n",
      "\n",
      "Modified Vanilla Viterbi on Sentence 2 is: [('Android', 'NOUN'), ('has', 'VERB'), ('been', 'VERB'), ('the', 'DET'), ('best-selling', 'ADJ'), ('OS', 'NOUN'), ('worldwide', 'NOUN'), ('on', 'ADP'), ('smartphones', 'DET'), ('since', 'ADP'), ('2011', 'DET'), ('and', 'CONJ'), ('on', 'ADP'), ('tablets', 'NOUN'), ('since', 'ADP'), ('2013', 'DET'), ('.', '.')]\n",
      "\n",
      "Viterbi + Rule Based + Bi Gram Tagger on Sentence 2 is: [('Android', 'X'), ('has', 'VERB'), ('been', 'VERB'), ('the', 'DET'), ('best-selling', 'ADJ'), ('OS', 'X'), ('worldwide', 'X'), ('on', 'ADP'), ('smartphones', 'VERB'), ('since', 'ADP'), ('2011', 'X'), ('and', 'CONJ'), ('on', 'ADP'), ('tablets', 'NOUN'), ('since', 'ADP'), ('2013', 'X'), ('.', '.')]\n",
      "\n",
      "********************************************************************************************************\n",
      "\n",
      "Sentence 3 is: Google and Twitter made a deal in 2015 that gave Google access to Twitter's firehose.\n",
      "\n",
      "Vanilla Viterbi on Sentence 3 is: [('Google', 'DET'), ('and', 'CONJ'), ('Twitter', 'DET'), ('made', 'VERB'), ('a', 'DET'), ('deal', 'NOUN'), ('in', 'ADP'), ('2015', 'DET'), ('that', 'ADP'), ('gave', 'VERB'), ('Google', 'DET'), ('access', 'NOUN'), ('to', 'PRT'), ('Twitter', 'DET'), (\"'s\", 'VERB'), ('firehose', 'DET'), ('.', '.')]\n",
      "\n",
      "Modified Vanilla Viterbi on Sentence 3 is: [('Google', 'NOUN'), ('and', 'CONJ'), ('Twitter', 'NOUN'), ('made', 'VERB'), ('a', 'DET'), ('deal', 'NOUN'), ('in', 'ADP'), ('2015', 'DET'), ('that', 'ADP'), ('gave', 'VERB'), ('Google', 'X'), ('access', 'NOUN'), ('to', 'PRT'), ('Twitter', 'VERB'), (\"'s\", 'PRT'), ('firehose', 'VERB'), ('.', '.')]\n",
      "\n",
      "Viterbi + Rule Based + Bi Gram Tagger on Sentence 3 is: [('Google', 'X'), ('and', 'CONJ'), ('Twitter', 'X'), ('made', 'VERB'), ('a', 'DET'), ('deal', 'NOUN'), ('in', 'ADP'), ('2015', 'X'), ('that', 'ADP'), ('gave', 'VERB'), ('Google', 'X'), ('access', 'NOUN'), ('to', 'PRT'), ('Twitter', 'X'), (\"'s\", 'PRT'), ('firehose', 'X'), ('.', '.')]\n",
      "\n",
      "********************************************************************************************************\n",
      "\n",
      "Sentence 4 is: Twitter is an online news and social networking service on which users post and interact with messages known as tweets.\n",
      "\n",
      "Vanilla Viterbi on Sentence 4 is: [('Twitter', 'DET'), ('is', 'VERB'), ('an', 'DET'), ('online', 'DET'), ('news', 'NOUN'), ('and', 'CONJ'), ('social', 'ADJ'), ('networking', 'NOUN'), ('service', 'NOUN'), ('on', 'ADP'), ('which', 'DET'), ('users', 'NOUN'), ('post', 'NOUN'), ('and', 'CONJ'), ('interact', 'DET'), ('with', 'ADP'), ('messages', 'DET'), ('known', 'VERB'), ('as', 'ADP'), ('tweets', 'DET'), ('.', '.')]\n",
      "\n",
      "Modified Vanilla Viterbi on Sentence 4 is: [('Twitter', 'NOUN'), ('is', 'VERB'), ('an', 'DET'), ('online', 'NOUN'), ('news', 'NOUN'), ('and', 'CONJ'), ('social', 'ADJ'), ('networking', 'NOUN'), ('service', 'NOUN'), ('on', 'ADP'), ('which', 'DET'), ('users', 'NOUN'), ('post', 'NOUN'), ('and', 'CONJ'), ('interact', 'NOUN'), ('with', 'ADP'), ('messages', 'DET'), ('known', 'VERB'), ('as', 'ADP'), ('tweets', 'DET'), ('.', '.')]\n",
      "\n",
      "Viterbi + Rule Based + Bi Gram Tagger on Sentence 4 is: [('Twitter', 'X'), ('is', 'VERB'), ('an', 'DET'), ('online', 'X'), ('news', 'NOUN'), ('and', 'CONJ'), ('social', 'ADJ'), ('networking', 'NOUN'), ('service', 'NOUN'), ('on', 'ADP'), ('which', 'DET'), ('users', 'NOUN'), ('post', 'NOUN'), ('and', 'CONJ'), ('interact', 'X'), ('with', 'ADP'), ('messages', 'VERB'), ('known', 'VERB'), ('as', 'ADP'), ('tweets', 'NOUN'), ('.', '.')]\n",
      "\n",
      "********************************************************************************************************\n",
      "\n",
      "Sentence 5 is: Before entering politics, Donald Trump was a domineering businessman and a television personality.\n",
      "\n",
      "Vanilla Viterbi on Sentence 5 is: [('Before', 'ADP'), ('entering', 'VERB'), ('politics', 'NOUN'), (',', '.'), ('Donald', 'NOUN'), ('Trump', 'NOUN'), ('was', 'VERB'), ('a', 'DET'), ('domineering', 'DET'), ('businessman', 'NOUN'), ('and', 'CONJ'), ('a', 'DET'), ('television', 'NOUN'), ('personality', 'DET'), ('.', '.')]\n",
      "\n",
      "Modified Vanilla Viterbi on Sentence 5 is: [('Before', 'ADP'), ('entering', 'VERB'), ('politics', 'NOUN'), (',', '.'), ('Donald', 'NOUN'), ('Trump', 'NOUN'), ('was', 'VERB'), ('a', 'DET'), ('domineering', 'NOUN'), ('businessman', 'NOUN'), ('and', 'CONJ'), ('a', 'DET'), ('television', 'NOUN'), ('personality', 'NOUN'), ('.', '.')]\n",
      "\n",
      "Viterbi + Rule Based + Bi Gram Tagger on Sentence 5 is: [('Before', 'ADP'), ('entering', 'VERB'), ('politics', 'NOUN'), (',', '.'), ('Donald', 'NOUN'), ('Trump', 'NOUN'), ('was', 'VERB'), ('a', 'DET'), ('domineering', 'VERB'), ('businessman', 'NOUN'), ('and', 'CONJ'), ('a', 'DET'), ('television', 'NOUN'), ('personality', 'X'), ('.', '.')]\n",
      "\n",
      "********************************************************************************************************\n",
      "\n",
      "Sentence 6 is: The 2018 FIFA World Cup is the 21st FIFA World Cup, an international football tournament contested once every four years.\n",
      "\n",
      "Vanilla Viterbi on Sentence 6 is: [('The', 'DET'), ('2018', 'DET'), ('FIFA', 'DET'), ('World', 'NOUN'), ('Cup', 'DET'), ('is', 'VERB'), ('the', 'DET'), ('21st', 'DET'), ('FIFA', 'DET'), ('World', 'NOUN'), ('Cup', 'DET'), (',', '.'), ('an', 'DET'), ('international', 'ADJ'), ('football', 'NOUN'), ('tournament', 'DET'), ('contested', 'DET'), ('once', 'ADV'), ('every', 'DET'), ('four', 'NUM'), ('years', 'NOUN'), ('.', '.')]\n",
      "\n",
      "Modified Vanilla Viterbi on Sentence 6 is: [('The', 'DET'), ('2018', 'NOUN'), ('FIFA', 'NOUN'), ('World', 'NOUN'), ('Cup', 'NOUN'), ('is', 'VERB'), ('the', 'DET'), ('21st', 'NOUN'), ('FIFA', 'NOUN'), ('World', 'NOUN'), ('Cup', 'NOUN'), (',', '.'), ('an', 'DET'), ('international', 'ADJ'), ('football', 'NOUN'), ('tournament', 'NOUN'), ('contested', 'NOUN'), ('once', 'ADV'), ('every', 'DET'), ('four', 'NUM'), ('years', 'NOUN'), ('.', '.')]\n",
      "\n",
      "Viterbi + Rule Based + Bi Gram Tagger on Sentence 6 is: [('The', 'DET'), ('2018', 'X'), ('FIFA', 'X'), ('World', 'NOUN'), ('Cup', 'X'), ('is', 'VERB'), ('the', 'DET'), ('21st', 'X'), ('FIFA', 'X'), ('World', 'NOUN'), ('Cup', 'X'), (',', '.'), ('an', 'DET'), ('international', 'ADJ'), ('football', 'NOUN'), ('tournament', 'X'), ('contested', 'VERB'), ('once', 'ADV'), ('every', 'DET'), ('four', 'NUM'), ('years', 'NOUN'), ('.', '.')]\n",
      "\n",
      "********************************************************************************************************\n",
      "\n",
      "Sentence 7 is: This is the first World Cup to be held in Eastern Europe and the 11th time that it has been held in Europe.\n",
      "\n",
      "Vanilla Viterbi on Sentence 7 is: [('This', 'DET'), ('is', 'VERB'), ('the', 'DET'), ('first', 'ADJ'), ('World', 'NOUN'), ('Cup', 'DET'), ('to', 'PRT'), ('be', 'VERB'), ('held', 'VERB'), ('in', 'ADP'), ('Eastern', 'NOUN'), ('Europe', 'NOUN'), ('and', 'CONJ'), ('the', 'DET'), ('11th', 'ADJ'), ('time', 'NOUN'), ('that', 'ADP'), ('it', 'PRON'), ('has', 'VERB'), ('been', 'VERB'), ('held', 'VERB'), ('in', 'ADP'), ('Europe', 'NOUN'), ('.', '.')]\n",
      "\n",
      "Modified Vanilla Viterbi on Sentence 7 is: [('This', 'DET'), ('is', 'VERB'), ('the', 'DET'), ('first', 'ADJ'), ('World', 'NOUN'), ('Cup', 'NOUN'), ('to', 'PRT'), ('be', 'VERB'), ('held', 'VERB'), ('in', 'ADP'), ('Eastern', 'NOUN'), ('Europe', 'NOUN'), ('and', 'CONJ'), ('the', 'DET'), ('11th', 'ADJ'), ('time', 'NOUN'), ('that', 'ADP'), ('it', 'PRON'), ('has', 'VERB'), ('been', 'VERB'), ('held', 'VERB'), ('in', 'ADP'), ('Europe', 'NOUN'), ('.', '.')]\n",
      "\n",
      "Viterbi + Rule Based + Bi Gram Tagger on Sentence 7 is: [('This', 'DET'), ('is', 'VERB'), ('the', 'DET'), ('first', 'ADJ'), ('World', 'NOUN'), ('Cup', 'X'), ('to', 'PRT'), ('be', 'VERB'), ('held', 'VERB'), ('in', 'ADP'), ('Eastern', 'NOUN'), ('Europe', 'NOUN'), ('and', 'CONJ'), ('the', 'DET'), ('11th', 'ADJ'), ('time', 'NOUN'), ('that', 'ADP'), ('it', 'PRON'), ('has', 'VERB'), ('been', 'VERB'), ('held', 'VERB'), ('in', 'ADP'), ('Europe', 'NOUN'), ('.', '.')]\n",
      "\n",
      "********************************************************************************************************\n",
      "\n",
      "Sentence 8 is: Show me the cheapest round trips from Dallas to Atlanta\n",
      "I would like to see flights from Denver to Philadelphia.\n",
      "\n",
      "Vanilla Viterbi on Sentence 8 is: [('Show', 'NOUN'), ('me', 'PRON'), ('the', 'DET'), ('cheapest', 'ADJ'), ('round', 'NOUN'), ('trips', 'DET'), ('from', 'ADP'), ('Dallas', 'NOUN'), ('to', 'PRT'), ('Atlanta', 'NOUN'), ('I', 'PRON'), ('would', 'VERB'), ('like', 'ADP'), ('to', 'PRT'), ('see', 'VERB'), ('flights', 'NOUN'), ('from', 'ADP'), ('Denver', 'NOUN'), ('to', 'PRT'), ('Philadelphia', 'NOUN'), ('.', '.')]\n",
      "\n",
      "Modified Vanilla Viterbi on Sentence 8 is: [('Show', 'NOUN'), ('me', 'PRON'), ('the', 'DET'), ('cheapest', 'ADJ'), ('round', 'NOUN'), ('trips', 'NOUN'), ('from', 'ADP'), ('Dallas', 'NOUN'), ('to', 'PRT'), ('Atlanta', 'NOUN'), ('I', 'PRON'), ('would', 'VERB'), ('like', 'ADP'), ('to', 'PRT'), ('see', 'VERB'), ('flights', 'NOUN'), ('from', 'ADP'), ('Denver', 'NOUN'), ('to', 'PRT'), ('Philadelphia', 'NOUN'), ('.', '.')]\n",
      "\n",
      "Viterbi + Rule Based + Bi Gram Tagger on Sentence 8 is: [('Show', 'NOUN'), ('me', 'PRON'), ('the', 'DET'), ('cheapest', 'ADJ'), ('round', 'NOUN'), ('trips', 'NOUN'), ('from', 'ADP'), ('Dallas', 'NOUN'), ('to', 'PRT'), ('Atlanta', 'NOUN'), ('I', 'PRON'), ('would', 'VERB'), ('like', 'ADP'), ('to', 'PRT'), ('see', 'VERB'), ('flights', 'NOUN'), ('from', 'ADP'), ('Denver', 'NOUN'), ('to', 'PRT'), ('Philadelphia', 'NOUN'), ('.', '.')]\n",
      "\n",
      "********************************************************************************************************\n",
      "\n",
      "Sentence 9 is: Show me the price of the flights leaving Atlanta at about 3 in the afternoon and arriving in San Francisco.\n",
      "\n",
      "Vanilla Viterbi on Sentence 9 is: [('Show', 'NOUN'), ('me', 'PRON'), ('the', 'DET'), ('price', 'NOUN'), ('of', 'ADP'), ('the', 'DET'), ('flights', 'NOUN'), ('leaving', 'VERB'), ('Atlanta', 'NOUN'), ('at', 'ADP'), ('about', 'ADP'), ('3', 'NUM'), ('in', 'ADP'), ('the', 'DET'), ('afternoon', 'NOUN'), ('and', 'CONJ'), ('arriving', 'DET'), ('in', 'ADP'), ('San', 'NOUN'), ('Francisco', 'NOUN'), ('.', '.')]\n",
      "\n",
      "Modified Vanilla Viterbi on Sentence 9 is: [('Show', 'NOUN'), ('me', 'PRON'), ('the', 'DET'), ('price', 'NOUN'), ('of', 'ADP'), ('the', 'DET'), ('flights', 'NOUN'), ('leaving', 'VERB'), ('Atlanta', 'NOUN'), ('at', 'ADP'), ('about', 'ADP'), ('3', 'NUM'), ('in', 'ADP'), ('the', 'DET'), ('afternoon', 'NOUN'), ('and', 'CONJ'), ('arriving', 'NOUN'), ('in', 'ADP'), ('San', 'NOUN'), ('Francisco', 'NOUN'), ('.', '.')]\n",
      "\n",
      "Viterbi + Rule Based + Bi Gram Tagger on Sentence 9 is: [('Show', 'NOUN'), ('me', 'PRON'), ('the', 'DET'), ('price', 'NOUN'), ('of', 'ADP'), ('the', 'DET'), ('flights', 'NOUN'), ('leaving', 'VERB'), ('Atlanta', 'NOUN'), ('at', 'ADP'), ('about', 'ADP'), ('3', 'NUM'), ('in', 'ADP'), ('the', 'DET'), ('afternoon', 'NOUN'), ('and', 'CONJ'), ('arriving', 'VERB'), ('in', 'ADP'), ('San', 'NOUN'), ('Francisco', 'NOUN'), ('.', '.')]\n",
      "\n",
      "********************************************************************************************************\n",
      "\n",
      "Sentence 10 is: NASA invited social media users to experience the launch of ICESAT-2 Satellite.\n",
      "\n",
      "Vanilla Viterbi on Sentence 10 is: [('NASA', 'DET'), ('invited', 'DET'), ('social', 'ADJ'), ('media', 'NOUN'), ('users', 'NOUN'), ('to', 'PRT'), ('experience', 'NOUN'), ('the', 'DET'), ('launch', 'NOUN'), ('of', 'ADP'), ('ICESAT-2', 'DET'), ('Satellite', 'DET'), ('.', '.')]\n",
      "\n",
      "Modified Vanilla Viterbi on Sentence 10 is: [('NASA', 'NOUN'), ('invited', 'NOUN'), ('social', 'ADJ'), ('media', 'NOUN'), ('users', 'NOUN'), ('to', 'PRT'), ('experience', 'NOUN'), ('the', 'DET'), ('launch', 'NOUN'), ('of', 'ADP'), ('ICESAT-2', 'DET'), ('Satellite', 'NOUN'), ('.', '.')]\n",
      "\n",
      "Viterbi + Rule Based + Bi Gram Tagger on Sentence 10 is: [('NASA', 'X'), ('invited', 'VERB'), ('social', 'ADJ'), ('media', 'NOUN'), ('users', 'NOUN'), ('to', 'PRT'), ('experience', 'NOUN'), ('the', 'DET'), ('launch', 'NOUN'), ('of', 'ADP'), ('ICESAT-2', 'X'), ('Satellite', 'X'), ('.', '.')]\n",
      "\n",
      "********************************************************************************************************\n"
     ]
    }
   ],
   "source": [
    "#displaying the test results of all the differnt models for the various differnt sentences\n",
    "test(\"Test_sentences.txt\")"
   ]
  },
  {
   "cell_type": "markdown",
   "metadata": {},
   "source": [
    "We could observe the following from the above sentences for various models:\n",
    "1. For the sentences we could many of the Nouns not being tagged correctly by the Plain Viterbi Model but the same looks fine with the modified viterbi algorithms.(For Example : Android, Mobile, Google)\n",
    "2. Also the year is not tagged corectly in the Vanilla Viterbi Model and but as a Noun in the Modified Algorithms, which still makes sense to an extent.\n",
    "3. In sentence 10, \"invited\" is tagged incorrectly in sentence 10 by the Vanilla Viterbi while the same is corrected as a verb in the 2nd modified viterbi algorithm"
   ]
  },
  {
   "cell_type": "code",
   "execution_count": null,
   "metadata": {},
   "outputs": [],
   "source": []
  },
  {
   "cell_type": "code",
   "execution_count": null,
   "metadata": {},
   "outputs": [],
   "source": []
  },
  {
   "cell_type": "code",
   "execution_count": null,
   "metadata": {},
   "outputs": [],
   "source": []
  },
  {
   "cell_type": "code",
   "execution_count": null,
   "metadata": {},
   "outputs": [],
   "source": []
  },
  {
   "cell_type": "code",
   "execution_count": null,
   "metadata": {},
   "outputs": [],
   "source": []
  },
  {
   "cell_type": "code",
   "execution_count": null,
   "metadata": {},
   "outputs": [],
   "source": []
  },
  {
   "cell_type": "code",
   "execution_count": null,
   "metadata": {},
   "outputs": [],
   "source": []
  },
  {
   "cell_type": "code",
   "execution_count": null,
   "metadata": {},
   "outputs": [],
   "source": []
  }
 ],
 "metadata": {
  "kernelspec": {
   "display_name": "Python 3",
   "language": "python",
   "name": "python3"
  },
  "language_info": {
   "codemirror_mode": {
    "name": "ipython",
    "version": 3
   },
   "file_extension": ".py",
   "mimetype": "text/x-python",
   "name": "python",
   "nbconvert_exporter": "python",
   "pygments_lexer": "ipython3",
   "version": "3.8.3"
  }
 },
 "nbformat": 4,
 "nbformat_minor": 4
}
